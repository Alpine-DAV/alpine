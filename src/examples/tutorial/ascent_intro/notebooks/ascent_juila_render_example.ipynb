{
 "cells": [
  {
   "cell_type": "code",
   "execution_count": null,
   "metadata": {},
   "outputs": [],
   "source": [
    "# remove this\n",
    "import sys\n",
    "sys.path.append(\"/Users/harrison37/Work/alpine/ascent/install-debug/python-modules/\")"
   ]
  },
  {
   "cell_type": "code",
   "execution_count": null,
   "metadata": {},
   "outputs": [],
   "source": [
    "# cleanup any old results\n",
    "!./cleanup.sh"
   ]
  },
  {
   "cell_type": "code",
   "execution_count": null,
   "metadata": {},
   "outputs": [],
   "source": [
    "# Ascent imports\n",
    "# ascent + conduit imports\n",
    "import conduit\n",
    "import conduit.blueprint\n",
    "import ascent\n",
    "\n",
    "import numpy as np\n",
    "\n",
    "# Jupyter imports\n",
    "from IPython.display import Image\n",
    "# helper we use when displaying results in the notebook\n",
    "img_display_width = 500"
   ]
  },
  {
   "cell_type": "code",
   "execution_count": null,
   "metadata": {},
   "outputs": [],
   "source": [
    "# Setup Actions to render our input datasets\n",
    "\n",
    "# setup actions\n",
    "actions = conduit.Node()\n",
    "add_act = actions.append()\n",
    "add_act[\"action\"] = \"add_scenes\"\n",
    "scenes = add_act[\"scenes\"]\n",
    "scenes[\"s1/plots/p1/type\"] = \"pseudocolor\";\n",
    "scenes[\"s1/plots/p1/field\"] = \"iters\";\n",
    "scenes[\"s1/image_prefix\"] = \"out_julia_\";\n",
    "scenes[\"s1/image_width\"] = 500\n",
    "scenes[\"s1/image_height\"] = 500\n",
    "\n",
    "# print our full actions tree\n",
    "print(actions.to_yaml())\n",
    "\n",
    "# Sweep the juila set to create a sample time varying\n",
    "# data set\n",
    "\n",
    "nsteps = 20\n",
    "\n",
    "# we will generate and rendering juila set examples linearly \n",
    "# interpolated between to known boxes\n",
    "\n",
    "# starting box\n",
    "extents_start = np.array( [-2.0, 2.0,  # x_min, x_max\n",
    "                          -2.0, 2.0], # y_min, y_max\n",
    "                           dtype=np.float64)\n",
    "\n",
    "# ending box\n",
    "extents_end = np.array( [-0.8, -0.4,  # x_min, x_max\n",
    "                         0.0, 0.4],  # y_min, y_max\n",
    "                         dtype=np.float64)\n",
    "\n",
    "extents_delta = extents_end - extents_start\n",
    "\n",
    "a = ascent.Ascent()\n",
    "a.open()\n",
    "\n",
    "info = conduit.Node()\n",
    "\n",
    "for i in range(nsteps+1):\n",
    "    extents = extents_start + extents_delta * (float(i) / float(nsteps))\n",
    "    print(\"Generating example with extents {}\".format(extents))\n",
    "    # create new dataset\n",
    "    mesh = conduit.Node()\n",
    "    conduit.blueprint.mesh.examples.julia(250,   250, # nx, ny\n",
    "                                         extents[0], extents[1], # x range\n",
    "                                         extents[2], extents[3], # y range\n",
    "                                         0.285, 0.01, # c value\n",
    "                                         mesh)\n",
    "    # publish mesh to ascent\n",
    "    a.publish(mesh)\n",
    "    # render with ascent\n",
    "    a.execute(actions)\n",
    "    a.info(info)\n",
    "    print(\"Created {}\".format(info[\"images\"][0][\"image_name\"]))\n",
    "# close ascent\n",
    "a.close()"
   ]
  },
  {
   "cell_type": "code",
   "execution_count": null,
   "metadata": {},
   "outputs": [],
   "source": [
    "Image(\"out_julia_0.png\",width=img_display_width)"
   ]
  },
  {
   "cell_type": "code",
   "execution_count": null,
   "metadata": {},
   "outputs": [],
   "source": [
    "pattern = \"out_julia_%d.png\"\n",
    "data = []\n",
    "for i in range(20):\n",
    "    with open(pattern % i, \"rb\") as f:\n",
    "        data.append(f.read())"
   ]
  },
  {
   "cell_type": "code",
   "execution_count": null,
   "metadata": {},
   "outputs": [],
   "source": [
    "import ipywidgets as widgets\n",
    " \n",
    "image = widgets.Image(value=data[0],\n",
    "    width=500,\n",
    "    height=500,\n",
    "    format=\"jpg\")\n",
    " \n",
    "play = widgets.Play(value=0,\n",
    "    min=0,\n",
    "    max=len(data)-1,\n",
    "    step=1,\n",
    "    interval=500)\n",
    " \n",
    "def update(change):\n",
    "    index = change.owner.value\n",
    "    image.value = data[index]\n",
    " \n",
    "play.observe(update)\n",
    " \n",
    "widgets.VBox([image, play])"
   ]
  },
  {
   "cell_type": "code",
   "execution_count": null,
   "metadata": {},
   "outputs": [],
   "source": [
    "from ascent_tutorial_jupyter_utils import ImageSeqViewer"
   ]
  },
  {
   "cell_type": "code",
   "execution_count": null,
   "metadata": {},
   "outputs": [],
   "source": [
    "ifiles = [ \"out_julia_%d.png\" % i for i in range(20) ]"
   ]
  },
  {
   "cell_type": "markdown",
   "metadata": {},
   "source": [
    "ifiles\n"
   ]
  },
  {
   "cell_type": "code",
   "execution_count": null,
   "metadata": {},
   "outputs": [],
   "source": [
    "print(ifiles)"
   ]
  },
  {
   "cell_type": "code",
   "execution_count": null,
   "metadata": {},
   "outputs": [],
   "source": [
    "v = ImageSeqViewer(ifiles)"
   ]
  },
  {
   "cell_type": "code",
   "execution_count": null,
   "metadata": {},
   "outputs": [],
   "source": [
    "dir(v)"
   ]
  },
  {
   "cell_type": "code",
   "execution_count": null,
   "metadata": {},
   "outputs": [],
   "source": [
    "v.run()"
   ]
  },
  {
   "cell_type": "code",
   "execution_count": null,
   "metadata": {},
   "outputs": [],
   "source": []
  }
 ],
 "metadata": {
  "kernelspec": {
   "display_name": "Python 3",
   "language": "python",
   "name": "python3"
  },
  "language_info": {
   "codemirror_mode": {
    "name": "ipython",
    "version": 3
   },
   "file_extension": ".py",
   "mimetype": "text/x-python",
   "name": "python",
   "nbconvert_exporter": "python",
   "pygments_lexer": "ipython3",
   "version": "3.6.3"
  }
 },
 "nbformat": 4,
 "nbformat_minor": 2
}
