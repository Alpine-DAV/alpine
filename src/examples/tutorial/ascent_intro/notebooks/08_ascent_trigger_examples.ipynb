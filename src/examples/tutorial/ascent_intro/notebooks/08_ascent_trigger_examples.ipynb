{
 "cells": [
  {
   "cell_type": "code",
   "execution_count": null,
   "metadata": {},
   "outputs": [],
   "source": [
    "# remove this\n",
    "import sys\n",
    "import math\n",
    "import numpy as np\n",
    "\n",
    "#sys.path.append(\"/Users/harrison37/Work/alpine/ascent/install-debug/python-modules/\")\n",
    "sys.path.append(\"/Users/larsen30/research/test_builds/release/ascent/install/python-modules\")\n",
    "\n",
    "# Ascent imports\n",
    "import conduit\n",
    "import conduit.blueprint\n",
    "import ascent"
   ]
  },
  {
   "cell_type": "code",
   "execution_count": null,
   "metadata": {},
   "outputs": [],
   "source": [
    "# cleanup any old results\n",
    "!./cleanup.sh"
   ]
  },
  {
   "cell_type": "code",
   "execution_count": null,
   "metadata": {},
   "outputs": [],
   "source": [
    "def create_mesh(time):\n",
    "\n",
    "    mesh1 = conduit.Node()\n",
    "    xy_dims = 40\n",
    "    z_dims = 2\n",
    "    \n",
    "    conduit.blueprint.mesh.examples.braid(\"hexs\",\n",
    "                                          xy_dims,\n",
    "                                          xy_dims,\n",
    "                                          z_dims,\n",
    "                                          mesh1)\n",
    "\n",
    "    field = mesh1[\"fields/gyre\"]\n",
    "    field[\"association\"] = \"vertex\"\n",
    "    field[\"topology\"] = \"mesh\"\n",
    "    # https://shaddenlab.berkeley.edu/uploads/LCS-tutorial/examples.html\n",
    "    values = np.zeros(xy_dims*xy_dims*z_dims)\n",
    "\n",
    "\n",
    "    e = 0.25\n",
    "    A = 0.1\n",
    "    w = (2.0 * math.pi) / 10.0\n",
    "    a_t = e * math.sin(w * time)\n",
    "    b_t = 1.0 - 2 * e * math.sin(w * time)\n",
    "    #print(\"e: \" + str(e) + \" A \" + str(A) + \" w \" + str(w) + \" a_t \" + str(a_t) + \" b_t \" + str(b_t))\n",
    "    #print(b_t)\n",
    "    #print(w)\n",
    "    idx = 0\n",
    "    for z in range(z_dims):\n",
    "        for y in range(xy_dims):\n",
    "            # scale y to 0-1\n",
    "            y_n = float(y)/float(xy_dims)\n",
    "            y_t = math.sin(math.pi * y_n)\n",
    "            for x in range(xy_dims):\n",
    "                # scale x to 0-1\n",
    "                x_f = float(x)/ (float(xy_dims) * .5)\n",
    "                f_t = a_t * x_f * x_f + b_t * x_f\n",
    "                #print(f_t)\n",
    "                value = A * math.sin(math.pi * f_t) * y_t\n",
    "                u = -math.pi * A * math.sin(math.pi * f_t) * math.cos(math.pi * y_n)\n",
    "                df_dx = 2.0 * a_t + b_t\n",
    "                #print(\"df_dx \" + str(df_dx))\n",
    "                v = math.pi * A * math.cos(math.pi * f_t) * math.sin(math.pi * y_n) * df_dx\n",
    "                values[idx] = math.sqrt(u * u + v * v)\n",
    "                #values[idx] = u * u + v * v\n",
    "                #values[idx] = value\n",
    "                #print(\"u \" + str(u) + \" v \" + str(v) + \" mag \" + str(math.sqrt(u * u + v * v)))\n",
    "                idx = idx + 1\n",
    "\n",
    "    #print(values)\n",
    "    field[\"values\"] = values  \n",
    "    return mesh1\n"
   ]
  },
  {
   "cell_type": "code",
   "execution_count": null,
   "metadata": {},
   "outputs": [],
   "source": [
    "# Jupyter imports\n",
    "from IPython.display import Image\n",
    "# helper we use when displaying results in the notebook\n",
    "img_display_width = 500\n",
    "\n",
    "# open ascent\n",
    "a = ascent.Ascent()\n",
    "a.open()\n",
    "\n",
    "# Setup actions to tell Ascent what to do\n",
    "# add our expressions definiton to the actions\n",
    "actions = conduit.Node()\n",
    "\n",
    "# declare a question to ask \n",
    "add_queries = actions.append()\n",
    "add_queries[\"action\"] = \"add_queries\"\n",
    "\n",
    "queries = add_queries[\"queries\"] \n",
    "queries[\"q1/params/expression\"] = \"entropy(histogram(field('gyre'), num_bins=128))\"\n",
    "queries[\"q1/params/name\"] = \"entropy\"\n",
    "\n",
    "# declare triggers \n",
    "add_triggers = actions.append()\n",
    "add_triggers[\"action\"] = \"add_triggers\"\n",
    "triggers = add_triggers[\"triggers\"] \n",
    "\n",
    "# simple trigger that fires at cycle 500\n",
    "triggers[\"t1/params/condition\"] = \"cycle() == 500\"\n",
    "triggers[\"t1/params/actions_file\"] = \"cycle_trigger_actions.yaml\"\n",
    "\n",
    "# a trigger that fires when the change in entroy exceeds 0.5\n",
    "\n",
    "# the history function allows you to access query results of previous\n",
    "# cycles. relative_index indicates how far back in history to look.\n",
    "\n",
    "# Looking at the plot of entropy in the previous notebook, we see a jump\n",
    "# in entropy at cycle 200, so we expect the trigger to fire at cycle 200\n",
    "triggers[\"t2/params/condition\"] = \"entropy - history(entropy, relative_index = 1) > 0.5\"\n",
    "triggers[\"t2/params/actions_file\"] = \"entropy_trigger_actions.yaml\"\n",
    "\n",
    "# view our full actions tree\n",
    "print(actions.to_yaml())\n",
    "\n",
    "nsteps = 10\n",
    "time = 0.0\n",
    "delta_time = 0.5\n",
    "\n",
    "info = conduit.Node()\n",
    "for step in range(nsteps):\n",
    "    \n",
    "    # create example mesh using conduit blueprint\n",
    "    mesh = create_mesh(time)\n",
    "    \n",
    "    # update the examples default cycle\n",
    "    mesh[\"state/cycle\"] = 100 + step * 100\n",
    "    time = time + delta_time\n",
    "    \n",
    "    # publish mesh to ascent\n",
    "    a.publish(mesh)\n",
    "    \n",
    "    # execute\n",
    "    a.execute(actions)\n",
    "\n",
    "# close ascent\n",
    "a.close()"
   ]
  },
  {
   "cell_type": "code",
   "execution_count": null,
   "metadata": {},
   "outputs": [],
   "source": [
    "! ls cycle_trigger*.png"
   ]
  },
  {
   "cell_type": "code",
   "execution_count": null,
   "metadata": {},
   "outputs": [],
   "source": [
    "! ls entropy_trigger*.png"
   ]
  },
  {
   "cell_type": "code",
   "execution_count": null,
   "metadata": {},
   "outputs": [],
   "source": [
    "a.info(info)\n",
    "print(info[\"expressions\"].to_yaml())"
   ]
  },
  {
   "cell_type": "code",
   "execution_count": null,
   "metadata": {},
   "outputs": [],
   "source": []
  },
  {
   "cell_type": "code",
   "execution_count": null,
   "metadata": {},
   "outputs": [],
   "source": []
  },
  {
   "cell_type": "code",
   "execution_count": null,
   "metadata": {},
   "outputs": [],
   "source": []
  },
  {
   "cell_type": "code",
   "execution_count": null,
   "metadata": {},
   "outputs": [],
   "source": []
  },
  {
   "cell_type": "code",
   "execution_count": null,
   "metadata": {},
   "outputs": [],
   "source": []
  },
  {
   "cell_type": "code",
   "execution_count": null,
   "metadata": {},
   "outputs": [],
   "source": []
  },
  {
   "cell_type": "code",
   "execution_count": null,
   "metadata": {},
   "outputs": [],
   "source": []
  }
 ],
 "metadata": {
  "kernelspec": {
   "display_name": "Python 3",
   "language": "python",
   "name": "python3"
  },
  "language_info": {
   "codemirror_mode": {
    "name": "ipython",
    "version": 3
   },
   "file_extension": ".py",
   "mimetype": "text/x-python",
   "name": "python",
   "nbconvert_exporter": "python",
   "pygments_lexer": "ipython3",
   "version": "3.6.3"
  }
 },
 "nbformat": 4,
 "nbformat_minor": 2
}
