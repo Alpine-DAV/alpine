{
 "cells": [
  {
   "cell_type": "code",
   "execution_count": 1,
   "metadata": {},
   "outputs": [],
   "source": [
    "# remove this\n",
    "import sys\n",
    "#sys.path.append(\"/Users/harrison37/Work/alpine/ascent/install-debug/python-modules/\")\n",
    "sys.path.append(\"/Users/larsen30/research/test_builds/release/ascent/install/python-modules\")"
   ]
  },
  {
   "cell_type": "code",
   "execution_count": 2,
   "metadata": {},
   "outputs": [],
   "source": [
    "# cleanup any old results\n",
    "!./cleanup.sh"
   ]
  },
  {
   "cell_type": "code",
   "execution_count": 3,
   "metadata": {},
   "outputs": [],
   "source": [
    "# Ascent imports\n",
    "# ascent + conduit imports\n",
    "import conduit\n",
    "import conduit.blueprint\n",
    "import ascent\n",
    "\n",
    "import numpy as np\n",
    "\n",
    "# Jupyter imports\n",
    "from IPython.display import Image\n",
    "# helper we use when displaying results in the notebook\n",
    "img_display_width = 500"
   ]
  },
  {
   "cell_type": "code",
   "execution_count": 4,
   "metadata": {},
   "outputs": [],
   "source": [
    "# create example mesh using conduit blueprint\n",
    "mesh = conduit.Node()\n",
    "conduit.blueprint.mesh.examples.braid(\"hexs\",\n",
    "                                      25,\n",
    "                                      25,\n",
    "                                      25,\n",
    "                                      mesh)"
   ]
  },
  {
   "cell_type": "code",
   "execution_count": 5,
   "metadata": {},
   "outputs": [
    {
     "name": "stdout",
     "output_type": "stream",
     "text": [
      "Mesh verify success!\n"
     ]
    }
   ],
   "source": [
    "# make sure the mesh we created conforms to the blueprint\n",
    "verify_info = conduit.Node()\n",
    "if not conduit.blueprint.mesh.verify(mesh,verify_info):\n",
    "    print(\"Mesh Verify failed!\")\n",
    "    print(verify_info)\n",
    "else:\n",
    "    print(\"Mesh verify success!\")"
   ]
  },
  {
   "cell_type": "markdown",
   "metadata": {},
   "source": [
    "## Relay Extract Example: Save input mesh and all fields to Blueprint HDF5 Files"
   ]
  },
  {
   "cell_type": "code",
   "execution_count": 6,
   "metadata": {},
   "outputs": [
    {
     "name": "stdout",
     "output_type": "stream",
     "text": [
      "\n",
      "- \n",
      "  action: \"add_extracts\"\n",
      "  extracts: \n",
      "    e1: \n",
      "      type: \"relay\"\n",
      "      params: \n",
      "        path: \"out_export_braid_all_fields\"\n",
      "        protocol: \"blueprint/mesh/hdf5\"\n",
      "\n"
     ]
    }
   ],
   "source": [
    "# Use Ascent to Export the data\n",
    "a = ascent.Ascent()\n",
    "a.open()\n",
    "\n",
    "# publish mesh to ascent\n",
    "a.publish(mesh);\n",
    "\n",
    "# setup actions\n",
    "actions = conduit.Node()\n",
    "add_act = actions.append()\n",
    "add_act[\"action\"] = \"add_extracts\"\n",
    "extracts = add_act[\"extracts\"]\n",
    "extracts[\"e1/type\"] = \"relay\"\n",
    "extracts[\"e1/params/path\"] = \"out_export_braid_all_fields\"\n",
    "extracts[\"e1/params/protocol\"] = \"blueprint/mesh/hdf5\"\n",
    "\n",
    "\n",
    "# print our full actions tree\n",
    "print(actions.to_yaml())\n",
    "\n",
    "# execute\n",
    "a.execute(actions);\n",
    "\n",
    "# close ascent\n",
    "a.close()"
   ]
  },
  {
   "cell_type": "markdown",
   "metadata": {},
   "source": [
    "## Look at the Blueprint HDF5 extract with VisIt"
   ]
  },
  {
   "cell_type": "code",
   "execution_count": 7,
   "metadata": {
    "scrolled": true
   },
   "outputs": [
    {
     "name": "stdout",
     "output_type": "stream",
     "text": [
      "/bin/sh: visit: command not found\r\n"
     ]
    }
   ],
   "source": [
    "!visit -o out_export_braid_all_fields.cycle_000100.root"
   ]
  },
  {
   "cell_type": "markdown",
   "metadata": {},
   "source": [
    "## Relay Extract Example: Save input mesh and selected field to Blueprint HDF5 Files"
   ]
  },
  {
   "cell_type": "code",
   "execution_count": 8,
   "metadata": {},
   "outputs": [
    {
     "name": "stdout",
     "output_type": "stream",
     "text": [
      "\n",
      "- \n",
      "  action: \"add_extracts\"\n",
      "  extracts: \n",
      "    e1: \n",
      "      type: \"relay\"\n",
      "      params: \n",
      "        path: \"out_export_braid_one_field\"\n",
      "        protocol: \"blueprint/mesh/hdf5\"\n",
      "        fields: \n",
      "          - \"braid\"\n",
      "\n"
     ]
    }
   ],
   "source": [
    "# Use Ascent to Export the data\n",
    "a = ascent.Ascent()\n",
    "a.open()\n",
    "\n",
    "# publish mesh to ascent\n",
    "a.publish(mesh);\n",
    "\n",
    "# setup actions\n",
    "actions = conduit.Node()\n",
    "add_act = actions.append()\n",
    "add_act[\"action\"] = \"add_extracts\"\n",
    "extracts = add_act[\"extracts\"]\n",
    "extracts[\"e1/type\"] = \"relay\"\n",
    "extracts[\"e1/params/path\"] = \"out_export_braid_one_field\"\n",
    "extracts[\"e1/params/protocol\"] = \"blueprint/mesh/hdf5\"\n",
    "\n",
    "#\n",
    "# you can also limit the export to only passed field names\n",
    "#\n",
    "extracts[\"e1/params/fields\"].append().set(\"braid\")\n",
    "\n",
    "# print our full actions tree\n",
    "print(actions.to_yaml())\n",
    "\n",
    "# execute\n",
    "a.execute(actions);\n",
    "\n",
    "# close ascent\n",
    "a.close()"
   ]
  },
  {
   "cell_type": "markdown",
   "metadata": {},
   "source": [
    "## Look at the Blueprint HDF5 extract with VisIt"
   ]
  },
  {
   "cell_type": "code",
   "execution_count": 9,
   "metadata": {},
   "outputs": [
    {
     "name": "stdout",
     "output_type": "stream",
     "text": [
      "/bin/sh: visit: command not found\r\n"
     ]
    }
   ],
   "source": [
    "!visit -o out_export_braid_one_field.cycle_000100.root"
   ]
  },
  {
   "cell_type": "markdown",
   "metadata": {},
   "source": [
    "## Relay Extract Example: Save contour result to Blueprint HDF5 Files"
   ]
  },
  {
   "cell_type": "code",
   "execution_count": 10,
   "metadata": {},
   "outputs": [
    {
     "name": "stdout",
     "output_type": "stream",
     "text": [
      "\n",
      "- \n",
      "  action: \"add_pipelines\"\n",
      "  pipelines: \n",
      "    pl1: \n",
      "      f1: \n",
      "        type: \"contour\"\n",
      "        params: \n",
      "          field: \"braid\"\n",
      "          iso_values: [0.2, 0.4]\n",
      "- \n",
      "  action: \"add_extracts\"\n",
      "  extracts: \n",
      "    e1: \n",
      "      type: \"relay\"\n",
      "      pipeline: \"pl1\"\n",
      "      params: \n",
      "        path: \"out_extract_braid_contour\"\n",
      "        protocol: \"blueprint/mesh/hdf5\"\n",
      "\n"
     ]
    }
   ],
   "source": [
    "a = ascent.Ascent()\n",
    "a.open()\n",
    "\n",
    "# publish mesh to ascent\n",
    "a.publish(mesh);\n",
    "\n",
    "pipelines = conduit.Node()\n",
    "\n",
    "pipelines[\"pl1/f1/type\"] = \"contour\"\n",
    "contour_params = conduit.Node()\n",
    "contour_params[\"field\"] = \"braid\"\n",
    "\n",
    "iso_vals = np.array([0.2, 0.4], dtype=np.float64)\n",
    "contour_params[\"iso_values\"].set_external(iso_vals)\n",
    "pipelines[\"pl1/f1/params\"] = contour_params\n",
    "\n",
    "# setup actions\n",
    "actions = conduit.Node()\n",
    "add_act = actions.append();\n",
    "add_act[\"action\"] = \"add_pipelines\";\n",
    "add_act[\"pipelines\"] = pipelines;\n",
    "\n",
    "extracts = conduit.Node()\n",
    "extracts[\"e1/type\"] = \"relay\"\n",
    "extracts[\"e1/pipeline\"]  = \"pl1\"\n",
    "extracts[\"e1/params/path\"] = \"out_extract_braid_contour\"\n",
    "extracts[\"e1/params/protocol\"] = \"blueprint/mesh/hdf5\"\n",
    "\n",
    "# setup actions\n",
    "add_act2 = actions.append()\n",
    "add_act2[\"action\"] = \"add_extracts\"\n",
    "add_act2[\"extracts\"] = extracts\n",
    "\n",
    "# print our full actions tree\n",
    "print(actions.to_yaml())\n",
    "\n",
    "# execute\n",
    "a.execute(actions);\n",
    "\n",
    "# close ascent\n",
    "a.close()"
   ]
  },
  {
   "cell_type": "markdown",
   "metadata": {},
   "source": [
    "## Look at the HDF5 extract with VisIt"
   ]
  },
  {
   "cell_type": "code",
   "execution_count": 11,
   "metadata": {},
   "outputs": [
    {
     "name": "stdout",
     "output_type": "stream",
     "text": [
      "/bin/sh: visit: command not found\r\n"
     ]
    }
   ],
   "source": [
    "!visit -o out_extract_braid_contour.cycle_000100.root"
   ]
  },
  {
   "cell_type": "markdown",
   "metadata": {},
   "source": [
    "## Cinema Extract Example: Create a Cinema Image Database of a contour"
   ]
  },
  {
   "cell_type": "code",
   "execution_count": 12,
   "metadata": {},
   "outputs": [
    {
     "name": "stdout",
     "output_type": "stream",
     "text": [
      "\n",
      "- \n",
      "  action: \"add_pipelines\"\n",
      "  pipelines: \n",
      "    pl1: \n",
      "      f1: \n",
      "        type: \"contour\"\n",
      "        params: \n",
      "          field: \"braid\"\n",
      "          iso_values: [0.200000002980232, 0.400000005960464]\n",
      "- \n",
      "  action: \"add_scenes\"\n",
      "  scenes: \n",
      "    s1: \n",
      "      plots: \n",
      "        p1: \n",
      "          type: \"pseudocolor\"\n",
      "          pipeline: \"pl1\"\n",
      "          field: \"braid\"\n",
      "      renders: \n",
      "        r1: \n",
      "          type: \"cinema\"\n",
      "          phi: 5\n",
      "          theta: 5\n",
      "          db_name: \"out_extract_cinema\"\n",
      "\n"
     ]
    }
   ],
   "source": [
    "# Use Ascent to Export the data\n",
    "a = ascent.Ascent()\n",
    "a.open()\n",
    "\n",
    "# publish mesh to ascent\n",
    "a.publish(mesh);\n",
    "\n",
    "pipelines = conduit.Node()\n",
    "pipelines[\"pl1/f1/type\"] = \"contour\"\n",
    "\n",
    "contour_params = conduit.Node()\n",
    "contour_params[\"field\"] = \"braid\"\n",
    "iso_vals = np.array([0.2, 0.4],dtype=np.float32)\n",
    "contour_params[\"iso_values\"].set_external(iso_vals)\n",
    "pipelines[\"pl1/f1/params\"] = contour_params\n",
    "\n",
    "# setup actions\n",
    "actions = conduit.Node()\n",
    "add_act = actions.append()\n",
    "add_act[\"action\"] = \"add_pipelines\"\n",
    "add_act[\"pipelines\"] = pipelines\n",
    "\n",
    "# declare a scene to render the dataset\n",
    "scenes = conduit.Node()\n",
    "scenes[\"s1/plots/p1/type\"] = \"pseudocolor\";\n",
    "scenes[\"s1/plots/p1/pipeline\"] = \"pl1\";\n",
    "scenes[\"s1/plots/p1/field\"] = \"braid\";\n",
    "# cinema params\n",
    "scenes[\"s1/renders/r1/type\"] = \"cinema\"\n",
    "scenes[\"s1/renders/r1/phi\"] = 5\n",
    "scenes[\"s1/renders/r1/theta\"] = 5\n",
    "scenes[\"s1/renders/r1/db_name\"] = \"out_extract_cinema\"\n",
    "\n",
    "add_act2 = actions.append()\n",
    "add_act2[\"action\"] = \"add_scenes\"\n",
    "add_act2[\"scenes\"] = scenes\n",
    "\n",
    "# print our full actions tree\n",
    "print(actions.to_yaml())\n",
    "\n",
    "# execute\n",
    "a.execute(actions);\n",
    "\n",
    "# close ascent\n",
    "a.close()"
   ]
  },
  {
   "cell_type": "code",
   "execution_count": 13,
   "metadata": {},
   "outputs": [
    {
     "data": {
      "text/html": [
       "<!doctype html>\n",
       "<html lang='en'>\n",
       "<head>\n",
       "    <meta charset='utf-8'>\n",
       "    <title>Cinema Viewer - Spec A</title>\n",
       "    <meta name='description' content='A Cinema Viewer capable of browsing Spec A databases'>\n",
       "    <meta name='author' content='Jonas Lukasczyk'>\n",
       "    <link rel='stylesheet' href='cvlib/css/cvlib.css'>\n",
       "    <script src='cvlib/lib/jquery-3.1.1.min.js'></script>\n",
       "    <script src='cvlib/js/Parameter.js'></script>\n",
       "    <script src='cvlib/js/QuerySet.js'></script>\n",
       "    <script src='cvlib/js/ResultSet.js'></script>\n",
       "    <script src='cvlib/js/UIFactory.js'></script>\n",
       "    <script src='cvlib/js/ControlsPhiTheta.js'></script>\n",
       "    <script src='cvlib/js/Database.js'></script>\n",
       "    <script src='cvlib/js/DatabaseSpecA.js'></script>\n",
       "    <script src='cvlib/js/Renderer.js'></script>\n",
       "    <script src='cvlib/js/RendererSpecA.js'></script>\n",
       "</head>\n",
       "<body>\n",
       "    <script>\n",
       "        var db = new CVLIB.DatabaseSpecA('info.json', function(querySet){\n",
       "            var sidebarLayout = CVLIB.UIFactory.createSidebarLayout();\n",
       "            sidebarLayout.sidebar.append( '<h2>Cinema Viewer<br>Spec A - Single</h2>' );\n",
       "            $('body').append(sidebarLayout);\n",
       "\n",
       "            var queryTable = CVLIB.UIFactory.createSimpleQueryTable( querySet );\n",
       "            sidebarLayout.sidebar.append(queryTable);\n",
       "\n",
       "            var viewport = CVLIB.UIFactory.createViewport();\n",
       "            sidebarLayout.content.append(viewport);\n",
       "\n",
       "            new CVLIB.ControlsPhiTheta(viewport, querySet);\n",
       "\n",
       "            var renderer = new CVLIB.RendererSpecA();\n",
       "\n",
       "            var renderFunction = function(resultSet){\n",
       "                renderer.render(resultSet.data, viewport.canvas, true);\n",
       "            };\n",
       "\n",
       "            var updateFunction = function(e, parameter){\n",
       "                db.processQuery( querySet, renderFunction );\n",
       "            };\n",
       "\n",
       "            querySet.emitter.on(\n",
       "                'change',\n",
       "                updateFunction\n",
       "            );\n",
       "\n",
       "            updateFunction();\n",
       "        });\n",
       "    </script>\n",
       "</body>\n",
       "</html>"
      ],
      "text/plain": [
       "<IPython.core.display.HTML object>"
      ]
     },
     "execution_count": 13,
     "metadata": {},
     "output_type": "execute_result"
    }
   ],
   "source": [
    "from IPython.display import HTML\n",
    "HTML(filename=\"cinema_databases/out_extract_cinema/index.html\")"
   ]
  }
 ],
 "metadata": {
  "kernelspec": {
   "display_name": "Python 3",
   "language": "python",
   "name": "python3"
  },
  "language_info": {
   "codemirror_mode": {
    "name": "ipython",
    "version": 3
   },
   "file_extension": ".py",
   "mimetype": "text/x-python",
   "name": "python",
   "nbconvert_exporter": "python",
   "pygments_lexer": "ipython3",
   "version": "3.6.3"
  }
 },
 "nbformat": 4,
 "nbformat_minor": 2
}
