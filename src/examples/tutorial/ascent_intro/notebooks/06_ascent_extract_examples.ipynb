{
 "cells": [
  {
   "cell_type": "code",
   "execution_count": null,
   "metadata": {},
   "outputs": [],
   "source": [
    "# remove this\n",
    "import sys\n",
    "#sys.path.append(\"/Users/harrison37/Work/alpine/ascent/install-debug/python-modules/\")\n",
    "sys.path.append(\"/Users/larsen30/research/test_builds/release/ascent/install/python-modules\")"
   ]
  },
  {
   "cell_type": "code",
   "execution_count": null,
   "metadata": {},
   "outputs": [],
   "source": [
    "# cleanup any old results\n",
    "!./cleanup.sh"
   ]
  },
  {
   "cell_type": "code",
   "execution_count": null,
   "metadata": {},
   "outputs": [],
   "source": [
    "# Ascent imports\n",
    "# ascent + conduit imports\n",
    "import conduit\n",
    "import conduit.blueprint\n",
    "import ascent\n",
    "\n",
    "import numpy as np\n",
    "\n",
    "# Jupyter imports\n",
    "from IPython.display import Image\n",
    "# helper we use when displaying results in the notebook\n",
    "img_display_width = 500"
   ]
  },
  {
   "cell_type": "code",
   "execution_count": null,
   "metadata": {},
   "outputs": [],
   "source": [
    "# create example mesh using conduit blueprint\n",
    "mesh = conduit.Node()\n",
    "conduit.blueprint.mesh.examples.braid(\"hexs\",\n",
    "                                      25,\n",
    "                                      25,\n",
    "                                      25,\n",
    "                                      mesh)\n"
   ]
  },
  {
   "cell_type": "code",
   "execution_count": null,
   "metadata": {},
   "outputs": [],
   "source": [
    "# make sure the mesh we created conforms to the blueprint\n",
    "verify_info = conduit.Node()\n",
    "if not conduit.blueprint.mesh.verify(mesh,verify_info):\n",
    "    print(\"Mesh Verify failed!\")\n",
    "    print(verify_info.to_yaml())\n",
    "else:\n",
    "    print(\"Mesh verify success!\")"
   ]
  },
  {
   "cell_type": "markdown",
   "metadata": {},
   "source": [
    "## Relay Extract Example\n",
    "### Save input mesh and all fields to Blueprint HDF5 Files"
   ]
  },
  {
   "cell_type": "code",
   "execution_count": null,
   "metadata": {},
   "outputs": [],
   "source": [
    "# Use Ascent to Export the data\n",
    "a = ascent.Ascent()\n",
    "a.open()\n",
    "\n",
    "# publish mesh to ascent\n",
    "a.publish(mesh);\n",
    "\n",
    "# setup actions\n",
    "# add a relay extract that will write blueprint hdf5 files\n",
    "actions = conduit.Node()\n",
    "add_act = actions.append()\n",
    "add_act[\"action\"] = \"add_extracts\"\n",
    "extracts = add_act[\"extracts\"]\n",
    "extracts[\"e1/type\"] = \"relay\"\n",
    "extracts[\"e1/params/path\"] = \"out_export_braid_all_fields\"\n",
    "extracts[\"e1/params/protocol\"] = \"blueprint/mesh/hdf5\"\n",
    "\n",
    "# print our full actions tree\n",
    "print(actions.to_yaml())\n",
    "\n",
    "# execute\n",
    "a.execute(actions);\n",
    "\n",
    "# close ascent\n",
    "a.close()"
   ]
  },
  {
   "cell_type": "code",
   "execution_count": null,
   "metadata": {
    "scrolled": true
   },
   "outputs": [],
   "source": [
    "# Look at the Blueprint HDF5 extract with VisIt\n",
    "# !visit -o out_export_braid_all_fields.cycle_000100.root"
   ]
  },
  {
   "cell_type": "markdown",
   "metadata": {},
   "source": [
    "## Relay Extract Example\n",
    "### Save input mesh and one selected field to Blueprint HDF5 Files"
   ]
  },
  {
   "cell_type": "code",
   "execution_count": null,
   "metadata": {},
   "outputs": [],
   "source": [
    "# Use Ascent to Export the data\n",
    "a = ascent.Ascent()\n",
    "a.open()\n",
    "\n",
    "# publish mesh to ascent\n",
    "a.publish(mesh);\n",
    "\n",
    "# setup actions\n",
    "actions = conduit.Node()\n",
    "add_act = actions.append()\n",
    "add_act[\"action\"] = \"add_extracts\"\n",
    "extracts = add_act[\"extracts\"]\n",
    "extracts[\"e1/type\"] = \"relay\"\n",
    "extracts[\"e1/params/path\"] = \"out_export_braid_one_field\"\n",
    "extracts[\"e1/params/protocol\"] = \"blueprint/mesh/hdf5\"\n",
    "\n",
    "#\n",
    "# add fields paramter to limit the export to the braid field\n",
    "#\n",
    "extracts[\"e1/params/fields\"].append().set(\"braid\")\n",
    "\n",
    "# print our full actions tree\n",
    "print(actions.to_yaml())\n",
    "\n",
    "# execute\n",
    "a.execute(actions);\n",
    "\n",
    "# close ascent\n",
    "a.close()"
   ]
  },
  {
   "cell_type": "code",
   "execution_count": null,
   "metadata": {},
   "outputs": [],
   "source": [
    "# Look at the Blueprint HDF5 extract with VisIt\n",
    "# !visit -o out_export_braid_one_field.cycle_000100.root"
   ]
  },
  {
   "cell_type": "markdown",
   "metadata": {},
   "source": [
    "### Relay Extract Example\n",
    "### Save pipeline contour results to Blueprint HDF5 Files"
   ]
  },
  {
   "cell_type": "code",
   "execution_count": null,
   "metadata": {},
   "outputs": [],
   "source": [
    "a = ascent.Ascent()\n",
    "a.open()\n",
    "\n",
    "# publish mesh to ascent\n",
    "a.publish(mesh);\n",
    "\n",
    "pipelines = conduit.Node()\n",
    "\n",
    "pipelines[\"pl1/f1/type\"] = \"contour\"\n",
    "contour_params = conduit.Node()\n",
    "contour_params[\"field\"] = \"braid\"\n",
    "\n",
    "iso_vals = np.array([0.2, 0.4], dtype=np.float64)\n",
    "contour_params[\"iso_values\"].set_external(iso_vals)\n",
    "pipelines[\"pl1/f1/params\"] = contour_params\n",
    "\n",
    "# setup actions\n",
    "actions = conduit.Node()\n",
    "add_act = actions.append();\n",
    "add_act[\"action\"] = \"add_pipelines\";\n",
    "add_act[\"pipelines\"] = pipelines;\n",
    "\n",
    "extracts = conduit.Node()\n",
    "extracts[\"e1/type\"] = \"relay\"\n",
    "extracts[\"e1/pipeline\"]  = \"pl1\"\n",
    "extracts[\"e1/params/path\"] = \"out_extract_braid_contour\"\n",
    "extracts[\"e1/params/protocol\"] = \"blueprint/mesh/hdf5\"\n",
    "\n",
    "# setup actions\n",
    "add_act2 = actions.append()\n",
    "add_act2[\"action\"] = \"add_extracts\"\n",
    "add_act2[\"extracts\"] = extracts\n",
    "\n",
    "# print our full actions tree\n",
    "print(actions.to_yaml())\n",
    "\n",
    "# execute\n",
    "a.execute(actions);\n",
    "\n",
    "# close ascent\n",
    "a.close()"
   ]
  },
  {
   "cell_type": "code",
   "execution_count": null,
   "metadata": {},
   "outputs": [],
   "source": [
    "# Look at the Blueprint HDF5 extract with VisIt\n",
    "# !visit -o out_extract_braid_contour.cycle_000100.root"
   ]
  },
  {
   "cell_type": "markdown",
   "metadata": {},
   "source": [
    "## Cinema Extract Example\n",
    "### Create a Cinema Image Database with several renders of the contour results"
   ]
  },
  {
   "cell_type": "code",
   "execution_count": null,
   "metadata": {},
   "outputs": [],
   "source": [
    "# Use Ascent to Export the data\n",
    "a = ascent.Ascent()\n",
    "a.open()\n",
    "\n",
    "# publish mesh to ascent\n",
    "a.publish(mesh);\n",
    "\n",
    "pipelines = conduit.Node()\n",
    "pipelines[\"pl1/f1/type\"] = \"contour\"\n",
    "\n",
    "contour_params = conduit.Node()\n",
    "contour_params[\"field\"] = \"braid\"\n",
    "iso_vals = np.array([0.2, 0.4],dtype=np.float32)\n",
    "contour_params[\"iso_values\"].set_external(iso_vals)\n",
    "pipelines[\"pl1/f1/params\"] = contour_params\n",
    "\n",
    "# setup actions\n",
    "actions = conduit.Node()\n",
    "add_act = actions.append()\n",
    "add_act[\"action\"] = \"add_pipelines\"\n",
    "add_act[\"pipelines\"] = pipelines\n",
    "\n",
    "# declare a scene to render the dataset\n",
    "scenes = conduit.Node()\n",
    "scenes[\"s1/plots/p1/type\"] = \"pseudocolor\";\n",
    "scenes[\"s1/plots/p1/pipeline\"] = \"pl1\";\n",
    "scenes[\"s1/plots/p1/field\"] = \"braid\";\n",
    "# cinema params\n",
    "scenes[\"s1/renders/r1/type\"] = \"cinema\"\n",
    "# use 5 renders in phi\n",
    "scenes[\"s1/renders/r1/phi\"] = 5\n",
    "# and 5 renders in theta\n",
    "scenes[\"s1/renders/r1/theta\"] = 5\n",
    "scenes[\"s1/renders/r1/db_name\"] = \"out_extract_cinema_contour\"\n",
    "\n",
    "add_act2 = actions.append()\n",
    "add_act2[\"action\"] = \"add_scenes\"\n",
    "add_act2[\"scenes\"] = scenes\n",
    "\n",
    "# print our full actions tree\n",
    "print(actions.to_yaml())\n",
    "\n",
    "# execute\n",
    "a.execute(actions);\n",
    "\n",
    "# close ascent\n",
    "a.close()"
   ]
  },
  {
   "cell_type": "code",
   "execution_count": null,
   "metadata": {},
   "outputs": [],
   "source": [
    "from IPython.display import HTML\n",
    "HTML(filename=\"cinema_databases/out_extract_cinema/index.html\")"
   ]
  }
 ],
 "metadata": {
  "kernelspec": {
   "display_name": "Python 3",
   "language": "python",
   "name": "python3"
  },
  "language_info": {
   "codemirror_mode": {
    "name": "ipython",
    "version": 3
   },
   "file_extension": ".py",
   "mimetype": "text/x-python",
   "name": "python",
   "nbconvert_exporter": "python",
   "pygments_lexer": "ipython3",
   "version": "3.6.3"
  }
 },
 "nbformat": 4,
 "nbformat_minor": 2
}
