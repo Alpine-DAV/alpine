{
 "cells": [
  {
   "cell_type": "markdown",
   "metadata": {},
   "source": [
    "# Capturing data with Extracts\n",
    "Extracts are the construct that allows users to capture and process data outside Ascent's pipeline infrastructure. Extract use cases include: Saving mesh data to HDF5 files, creating Cinema databases, and running custom Python analysis scripts. These examples outline how to use several of Ascent's extracts. See Ascent's [Extracts](https://ascent.readthedocs.io/en/latest/Actions/Extracts.html) docs for deeper details on Extracts."
   ]
  },
  {
   "cell_type": "code",
   "execution_count": null,
   "metadata": {},
   "outputs": [],
   "source": [
    "# remove this\n",
    "import sys\n",
    "sys.path.append(\"/Users/harrison37/Work/alpine/ascent/install-debug/python-modules/\")\n",
    "#sys.path.append(\"/Users/larsen30/research/test_builds/release/ascent/install/python-modules\")"
   ]
  },
  {
   "cell_type": "code",
   "execution_count": null,
   "metadata": {},
   "outputs": [],
   "source": [
    "# cleanup any old results\n",
    "!./cleanup.sh\n",
    "# ascent + conduit imports\n",
    "import conduit\n",
    "import conduit.blueprint\n",
    "import ascent\n",
    "\n",
    "import numpy as np\n",
    "\n",
    "# Jupyter imports\n",
    "from IPython.display import Image\n",
    "# helpers we use when displaying results in the notebook\n",
    "from ascent_tutorial_jupyter_utils import img_display_width"
   ]
  },
  {
   "cell_type": "code",
   "execution_count": null,
   "metadata": {},
   "outputs": [],
   "source": [
    "# create example mesh using the conduit blueprint braid helper\n",
    "mesh = conduit.Node()\n",
    "conduit.blueprint.mesh.examples.braid(\"hexs\",\n",
    "                                      25,\n",
    "                                      25,\n",
    "                                      25,\n",
    "                                      mesh)"
   ]
  },
  {
   "cell_type": "markdown",
   "metadata": {},
   "source": [
    "## Relay Extract Example 1\n",
    "### Save input mesh and all fields to Blueprint HDF5 Files"
   ]
  },
  {
   "cell_type": "code",
   "execution_count": null,
   "metadata": {},
   "outputs": [],
   "source": [
    "# Use Ascent to Export the data\n",
    "a = ascent.Ascent()\n",
    "a.open()\n",
    "\n",
    "# publish mesh to ascent\n",
    "a.publish(mesh);\n",
    "\n",
    "# setup actions\n",
    "actions = conduit.Node()\n",
    "add_act = actions.append()\n",
    "add_act[\"action\"] = \"add_extracts\"\n",
    "\n",
    "# add a relay extract that will write mesh data to \n",
    "# blueprint hdf5 files\n",
    "extracts = add_act[\"extracts\"]\n",
    "extracts[\"e1/type\"] = \"relay\"\n",
    "extracts[\"e1/params/path\"] = \"out_export_braid_all_fields\"\n",
    "extracts[\"e1/params/protocol\"] = \"blueprint/mesh/hdf5\"\n",
    "\n",
    "# print our full actions tree\n",
    "print(actions.to_yaml())\n",
    "\n",
    "# execute\n",
    "a.execute(actions);\n",
    "\n",
    "# close ascent\n",
    "a.close()"
   ]
  },
  {
   "cell_type": "code",
   "execution_count": null,
   "metadata": {},
   "outputs": [],
   "source": [
    "# list the output root file\n",
    "!ls out_export_braid_all_fields*.root"
   ]
  },
  {
   "cell_type": "code",
   "execution_count": null,
   "metadata": {
    "scrolled": true
   },
   "outputs": [],
   "source": [
    "# Look at the Blueprint HDF5 extract with VisIt\n",
    "# !visit -o out_export_braid_all_fields.cycle_000100.root"
   ]
  },
  {
   "cell_type": "markdown",
   "metadata": {},
   "source": [
    "## Relay Extract Example 2\n",
    "### Save input mesh and one selected field to Blueprint HDF5 Files"
   ]
  },
  {
   "cell_type": "code",
   "execution_count": null,
   "metadata": {},
   "outputs": [],
   "source": [
    "# Use Ascent to Export the data\n",
    "a = ascent.Ascent()\n",
    "a.open()\n",
    "\n",
    "# publish mesh to ascent\n",
    "a.publish(mesh);\n",
    "\n",
    "# setup actions\n",
    "actions = conduit.Node()\n",
    "add_act = actions.append()\n",
    "add_act[\"action\"] = \"add_extracts\"\n",
    "\n",
    "# add a relay extract that will write mesh data to \n",
    "# blueprint hdf5 files\n",
    "extracts = add_act[\"extracts\"]\n",
    "extracts[\"e1/type\"] = \"relay\"\n",
    "extracts[\"e1/params/path\"] = \"out_export_braid_one_field\"\n",
    "extracts[\"e1/params/protocol\"] = \"blueprint/mesh/hdf5\"\n",
    "\n",
    "#\n",
    "# add fields parameter to limit the export to the just \n",
    "# the braid field\n",
    "#\n",
    "extracts[\"e1/params/fields\"].append().set(\"braid\")\n",
    "\n",
    "# print our full actions tree\n",
    "print(actions.to_yaml())\n",
    "\n",
    "# execute the actions\n",
    "a.execute(actions);\n",
    "\n",
    "a.close()"
   ]
  },
  {
   "cell_type": "code",
   "execution_count": null,
   "metadata": {},
   "outputs": [],
   "source": [
    "# list the output root file\n",
    "!ls out_export_braid_one_field*.root"
   ]
  },
  {
   "cell_type": "code",
   "execution_count": null,
   "metadata": {},
   "outputs": [],
   "source": [
    "# Look at the Blueprint HDF5 extract with VisIt\n",
    "# !visit -o out_export_braid_one_field.cycle_000100.root"
   ]
  },
  {
   "cell_type": "markdown",
   "metadata": {},
   "source": [
    "## Relay Extract Example 3:\n",
    "### Save contour results to Blueprint HDF5 Files"
   ]
  },
  {
   "cell_type": "code",
   "execution_count": null,
   "metadata": {},
   "outputs": [],
   "source": [
    "a = ascent.Ascent()\n",
    "a.open()\n",
    "\n",
    "# publish mesh to ascent\n",
    "a.publish(mesh);\n",
    "\n",
    "# setup actions\n",
    "actions = conduit.Node()\n",
    "add_act = actions.append();\n",
    "add_act[\"action\"] = \"add_pipelines\"\n",
    "pipelines = add_act[\"pipelines\"]\n",
    "\n",
    "# create a  pipeline (pl1) with a contour filter (f1)\n",
    "pipelines[\"pl1/f1/type\"] = \"contour\"\n",
    "\n",
    "# extract contours where braid variable\n",
    "# equals 0.2 and 0.4\n",
    "contour_params = pipelines[\"pl1/f1/params\"]\n",
    "contour_params[\"field\"] = \"braid\"\n",
    "iso_vals = np.array([0.2, 0.4],dtype=np.float32)\n",
    "contour_params[\"iso_values\"].set(iso_vals)\n",
    "\n",
    "# add an extract to capture the pipeline result\n",
    "add_act2 = actions.append()\n",
    "add_act2[\"action\"] = \"add_extracts\"\n",
    "extracts = add_act2[\"extracts\"]\n",
    "\n",
    "# add an relay extract (e1) to export the pipeline result\n",
    "# (pl1) to blueprint hdf5 files\n",
    "extracts[\"e1/type\"] = \"relay\"\n",
    "extracts[\"e1/pipeline\"]  = \"pl1\"\n",
    "extracts[\"e1/params/path\"] = \"out_extract_braid_contour\"\n",
    "extracts[\"e1/params/protocol\"] = \"blueprint/mesh/hdf5\"\n",
    "\n",
    "# print our full actions tree\n",
    "print(actions.to_yaml())\n",
    "\n",
    "# execute the actions\n",
    "a.execute(actions);\n",
    "\n",
    "a.close()"
   ]
  },
  {
   "cell_type": "code",
   "execution_count": null,
   "metadata": {},
   "outputs": [],
   "source": [
    "# list the output root file\n",
    "!ls out_extract_braid_contour*.root"
   ]
  },
  {
   "cell_type": "code",
   "execution_count": null,
   "metadata": {},
   "outputs": [],
   "source": [
    "# Look at the Blueprint HDF5 extract with VisIt\n",
    "# !visit -o out_extract_braid_contour.cycle_000100.root"
   ]
  },
  {
   "cell_type": "markdown",
   "metadata": {},
   "source": [
    "## Cinema Extract Example\n",
    "### Create a Cinema Image Database with several renders of the contour results"
   ]
  },
  {
   "cell_type": "code",
   "execution_count": null,
   "metadata": {},
   "outputs": [],
   "source": [
    "a = ascent.Ascent()\n",
    "a.open()\n",
    "\n",
    "# publish mesh to ascent\n",
    "a.publish(mesh);\n",
    "\n",
    "# setup actions\n",
    "actions = conduit.Node()\n",
    "add_act = actions.append();\n",
    "add_act[\"action\"] = \"add_pipelines\"\n",
    "pipelines = add_act[\"pipelines\"]\n",
    "\n",
    "# create a  pipeline (pl1) with a contour filter (f1)\n",
    "pipelines[\"pl1/f1/type\"] = \"contour\"\n",
    "\n",
    "# extract contours where braid variable\n",
    "# equals 0.2 and 0.4\n",
    "contour_params = pipelines[\"pl1/f1/params\"]\n",
    "contour_params[\"field\"] = \"braid\"\n",
    "iso_vals = np.array([0.2, 0.4],dtype=np.float32)\n",
    "contour_params[\"iso_values\"].set(iso_vals)\n",
    "\n",
    "# declare a scene to render several angles of\n",
    "# the pipeline result (pl1) to a Cinema Image\n",
    "# database\n",
    "\n",
    "add_act2 = actions.append()\n",
    "add_act2[\"action\"] = \"add_scenes\"\n",
    "scenes = add_act2[\"scenes\"]\n",
    "\n",
    "scenes[\"s1/plots/p1/type\"] = \"pseudocolor\"\n",
    "scenes[\"s1/plots/p1/pipeline\"] = \"pl1\"\n",
    "scenes[\"s1/plots/p1/field\"] = \"braid\"\n",
    "# select cinema path\n",
    "scenes[\"s1/renders/r1/type\"] = \"cinema\"\n",
    "# use 5 renders in phi\n",
    "scenes[\"s1/renders/r1/phi\"] = 5\n",
    "# and 5 renders in theta\n",
    "scenes[\"s1/renders/r1/theta\"] = 5\n",
    "scenes[\"s1/renders/r1/db_name\"] = \"out_extract_cinema_contour\"\n",
    "\n",
    "# print our full actions tree\n",
    "print(actions.to_yaml())\n",
    "\n",
    "# execute the actions\n",
    "a.execute(actions);\n",
    "\n",
    "a.close()"
   ]
  },
  {
   "cell_type": "code",
   "execution_count": null,
   "metadata": {},
   "outputs": [],
   "source": [
    "# use a web-server to view the results \n",
    "# use \"Kernel->Interupt\" to stop the webserver\n",
    "!python -m http.server 8000"
   ]
  }
 ],
 "metadata": {
  "kernelspec": {
   "display_name": "Python 3",
   "language": "python",
   "name": "python3"
  },
  "language_info": {
   "codemirror_mode": {
    "name": "ipython",
    "version": 3
   },
   "file_extension": ".py",
   "mimetype": "text/x-python",
   "name": "python",
   "nbconvert_exporter": "python",
   "pygments_lexer": "ipython3",
   "version": "3.6.3"
  }
 },
 "nbformat": 4,
 "nbformat_minor": 2
}
