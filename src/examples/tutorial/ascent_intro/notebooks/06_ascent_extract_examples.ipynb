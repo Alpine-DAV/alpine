{
 "cells": [
  {
   "cell_type": "code",
   "execution_count": 2,
   "metadata": {},
   "outputs": [],
   "source": [
    "# remove this\n",
    "import sys\n",
    "sys.path.append(\"/Users/harrison37/Work/alpine/ascent/install-debug/python-modules/\")"
   ]
  },
  {
   "cell_type": "code",
   "execution_count": 11,
   "metadata": {},
   "outputs": [],
   "source": [
    "# cleanup any old results\n",
    "!./cleanup.sh\n",
    "# Ascent imports\n",
    "# ascent + conduit imports\n",
    "import conduit\n",
    "import conduit.blueprint\n",
    "import ascent\n",
    "\n",
    "import numpy as np\n",
    "\n",
    "# Jupyter imports\n",
    "from IPython.display import Image\n",
    "# helper we use when displaying results in the notebook\n",
    "img_display_width = 500"
   ]
  },
  {
   "cell_type": "code",
   "execution_count": 12,
   "metadata": {},
   "outputs": [
    {
     "name": "stdout",
     "output_type": "stream",
     "text": [
      "Mesh verify success!\n"
     ]
    }
   ],
   "source": [
    "# create example mesh using conduit blueprint\n",
    "mesh = conduit.Node()\n",
    "conduit.blueprint.mesh.examples.braid(\"hexs\",\n",
    "                                      25,\n",
    "                                      25,\n",
    "                                      25,\n",
    "                                      mesh)\n",
    "# make sure the mesh we created conforms to the blueprint\n",
    "verify_info = conduit.Node()\n",
    "if not conduit.blueprint.mesh.verify(mesh,verify_info):\n",
    "    print(\"Mesh Verify failed!\")\n",
    "    print(verify_info.to_yaml())\n",
    "else:\n",
    "    print(\"Mesh verify success!\")"
   ]
  },
  {
   "cell_type": "markdown",
   "metadata": {},
   "source": [
    "## Relay Extract Example\n",
    "### Save input mesh and all fields to Blueprint HDF5 Files"
   ]
  },
  {
   "cell_type": "code",
   "execution_count": 7,
   "metadata": {},
   "outputs": [
    {
     "name": "stdout",
     "output_type": "stream",
     "text": [
      "\n",
      "- \n",
      "  action: \"add_extracts\"\n",
      "  extracts: \n",
      "    e1: \n",
      "      type: \"relay\"\n",
      "      params: \n",
      "        path: \"out_export_braid_all_fields\"\n",
      "        protocol: \"blueprint/mesh/hdf5\"\n",
      "\n"
     ]
    }
   ],
   "source": [
    "# Use Ascent to Export the data\n",
    "a = ascent.Ascent()\n",
    "a.open()\n",
    "\n",
    "# publish mesh to ascent\n",
    "a.publish(mesh);\n",
    "\n",
    "# setup actions\n",
    "# add a relay extract that will write blueprint hdf5 files\n",
    "actions = conduit.Node()\n",
    "add_act = actions.append()\n",
    "add_act[\"action\"] = \"add_extracts\"\n",
    "extracts = add_act[\"extracts\"]\n",
    "extracts[\"e1/type\"] = \"relay\"\n",
    "extracts[\"e1/params/path\"] = \"out_export_braid_all_fields\"\n",
    "extracts[\"e1/params/protocol\"] = \"blueprint/mesh/hdf5\"\n",
    "\n",
    "# print our full actions tree\n",
    "print(actions.to_yaml())\n",
    "\n",
    "# execute\n",
    "a.execute(actions);\n",
    "\n",
    "# close ascent\n",
    "a.close()"
   ]
  },
  {
   "cell_type": "code",
   "execution_count": 8,
   "metadata": {
    "scrolled": true
   },
   "outputs": [
    {
     "name": "stdout",
     "output_type": "stream",
     "text": [
      "Running: gui3.0.1 -o out_export_braid_all_fields.cycle_000100.root\n",
      "Empty filename passed to function\n",
      "Running: viewer3.0.1 -geometry 2159x1349+401+4 -borders 20,0,0,1 -shift 0,0 -preshift 0,0 -defer -host 127.0.0.1 -port 5600\n",
      "Running: mdserver3.0.1 -host 127.0.0.1 -port 5601\n",
      "Error opening plugin file: /Users/harrison37/Desktop/VisIt.app/Contents/Resources/3.0.1/darwin-x86_64/plugins/databases/libMUintahDatabase.dylib (dlopen(/Users/harrison37/Desktop/VisIt.app/Contents/Resources/3.0.1/darwin-x86_64/plugins/databases/libMUintahDatabase.dylib, 1): Library not loaded: @rpath/libxml2.2.dylib\n",
      "  Referenced from: /Users/harrison37/Desktop/VisIt.app/Contents/Resources/3.0.1/darwin-x86_64/lib/libVisIt_interfaces.dylib\n",
      "  Reason: image not found)\n",
      "Running: engine_ser3.0.1 -host 127.0.0.1 -port 5600\n"
     ]
    }
   ],
   "source": [
    "# Look at the Blueprint HDF5 extract with VisIt\n",
    "# !visit -o out_export_braid_all_fields.cycle_000100.root"
   ]
  },
  {
   "cell_type": "markdown",
   "metadata": {},
   "source": [
    "## Relay Extract Example\n",
    "### Save input mesh and one selected field to Blueprint HDF5 Files"
   ]
  },
  {
   "cell_type": "code",
   "execution_count": 9,
   "metadata": {},
   "outputs": [
    {
     "name": "stdout",
     "output_type": "stream",
     "text": [
      "\n",
      "- \n",
      "  action: \"add_extracts\"\n",
      "  extracts: \n",
      "    e1: \n",
      "      type: \"relay\"\n",
      "      params: \n",
      "        path: \"out_export_braid_one_field\"\n",
      "        protocol: \"blueprint/mesh/hdf5\"\n",
      "        fields: \n",
      "          - \"braid\"\n",
      "\n"
     ]
    }
   ],
   "source": [
    "# Use Ascent to Export the data\n",
    "a = ascent.Ascent()\n",
    "a.open()\n",
    "\n",
    "# publish mesh to ascent\n",
    "a.publish(mesh);\n",
    "\n",
    "# setup actions\n",
    "actions = conduit.Node()\n",
    "add_act = actions.append()\n",
    "add_act[\"action\"] = \"add_extracts\"\n",
    "extracts = add_act[\"extracts\"]\n",
    "extracts[\"e1/type\"] = \"relay\"\n",
    "extracts[\"e1/params/path\"] = \"out_export_braid_one_field\"\n",
    "extracts[\"e1/params/protocol\"] = \"blueprint/mesh/hdf5\"\n",
    "\n",
    "#\n",
    "# add fields paramter to limit the export to the braid field\n",
    "#\n",
    "extracts[\"e1/params/fields\"].append().set(\"braid\")\n",
    "\n",
    "# print our full actions tree\n",
    "print(actions.to_yaml())\n",
    "\n",
    "# execute\n",
    "a.execute(actions);\n",
    "\n",
    "# close ascent\n",
    "a.close()"
   ]
  },
  {
   "cell_type": "code",
   "execution_count": null,
   "metadata": {},
   "outputs": [],
   "source": [
    "# Look at the Blueprint HDF5 extract with VisIt\n",
    "# !visit -o out_export_braid_one_field.cycle_000100.root"
   ]
  },
  {
   "cell_type": "markdown",
   "metadata": {},
   "source": [
    "### Relay Extract Example\n",
    "### Save pipeline contour results to Blueprint HDF5 Files"
   ]
  },
  {
   "cell_type": "code",
   "execution_count": null,
   "metadata": {},
   "outputs": [],
   "source": [
    "a = ascent.Ascent()\n",
    "a.open()\n",
    "\n",
    "# publish mesh to ascent\n",
    "a.publish(mesh);\n",
    "\n",
    "pipelines = conduit.Node()\n",
    "\n",
    "pipelines[\"pl1/f1/type\"] = \"contour\"\n",
    "contour_params = conduit.Node()\n",
    "contour_params[\"field\"] = \"braid\"\n",
    "\n",
    "iso_vals = np.array([0.2, 0.4], dtype=np.float64)\n",
    "contour_params[\"iso_values\"].set_external(iso_vals)\n",
    "pipelines[\"pl1/f1/params\"] = contour_params\n",
    "\n",
    "# setup actions\n",
    "actions = conduit.Node()\n",
    "add_act = actions.append();\n",
    "add_act[\"action\"] = \"add_pipelines\";\n",
    "add_act[\"pipelines\"] = pipelines;\n",
    "\n",
    "extracts = conduit.Node()\n",
    "extracts[\"e1/type\"] = \"relay\"\n",
    "extracts[\"e1/pipeline\"]  = \"pl1\"\n",
    "extracts[\"e1/params/path\"] = \"out_extract_braid_contour\"\n",
    "extracts[\"e1/params/protocol\"] = \"blueprint/mesh/hdf5\"\n",
    "\n",
    "# setup actions\n",
    "add_act2 = actions.append()\n",
    "add_act2[\"action\"] = \"add_extracts\"\n",
    "add_act2[\"extracts\"] = extracts\n",
    "\n",
    "# print our full actions tree\n",
    "print(actions.to_yaml())\n",
    "\n",
    "# execute\n",
    "a.execute(actions);\n",
    "\n",
    "# close ascent\n",
    "a.close()"
   ]
  },
  {
   "cell_type": "code",
   "execution_count": 10,
   "metadata": {},
   "outputs": [],
   "source": [
    "# Look at the Blueprint HDF5 extract with VisIt\n",
    "# !visit -o out_extract_braid_contour.cycle_000100.root"
   ]
  },
  {
   "cell_type": "markdown",
   "metadata": {},
   "source": [
    "## Cinema Extract Example\n",
    "### Create a Cinema Image Database with several renders of the contour results"
   ]
  },
  {
   "cell_type": "code",
   "execution_count": null,
   "metadata": {},
   "outputs": [],
   "source": [
    "# Use Ascent to Export the data\n",
    "a = ascent.Ascent()\n",
    "a.open()\n",
    "\n",
    "# publish mesh to ascent\n",
    "a.publish(mesh);\n",
    "\n",
    "pipelines = conduit.Node()\n",
    "pipelines[\"pl1/f1/type\"] = \"contour\"\n",
    "\n",
    "contour_params = conduit.Node()\n",
    "contour_params[\"field\"] = \"braid\"\n",
    "iso_vals = np.array([0.2, 0.4],dtype=np.float32)\n",
    "contour_params[\"iso_values\"].set_external(iso_vals)\n",
    "pipelines[\"pl1/f1/params\"] = contour_params\n",
    "\n",
    "# setup actions\n",
    "actions = conduit.Node()\n",
    "add_act = actions.append()\n",
    "add_act[\"action\"] = \"add_pipelines\"\n",
    "add_act[\"pipelines\"] = pipelines\n",
    "\n",
    "# declare a scene to render the dataset\n",
    "scenes = conduit.Node()\n",
    "scenes[\"s1/plots/p1/type\"] = \"pseudocolor\";\n",
    "scenes[\"s1/plots/p1/pipeline\"] = \"pl1\";\n",
    "scenes[\"s1/plots/p1/field\"] = \"braid\";\n",
    "# cinema params\n",
    "scenes[\"s1/renders/r1/type\"] = \"cinema\"\n",
    "# use 5 renders in phi\n",
    "scenes[\"s1/renders/r1/phi\"] = 5\n",
    "# and 5 renders in theta\n",
    "scenes[\"s1/renders/r1/theta\"] = 5\n",
    "scenes[\"s1/renders/r1/db_name\"] = \"out_extract_cinema_contour\"\n",
    "\n",
    "add_act2 = actions.append()\n",
    "add_act2[\"action\"] = \"add_scenes\"\n",
    "add_act2[\"scenes\"] = scenes\n",
    "\n",
    "# print our full actions tree\n",
    "print(actions.to_yaml())\n",
    "\n",
    "# execute\n",
    "a.execute(actions);\n",
    "\n",
    "# close ascent\n",
    "a.close()"
   ]
  },
  {
   "cell_type": "code",
   "execution_count": 13,
   "metadata": {},
   "outputs": [
    {
     "ename": "FileNotFoundError",
     "evalue": "[Errno 2] No such file or directory: 'cinema_databases/out_extract_cinema/index.html'",
     "output_type": "error",
     "traceback": [
      "\u001b[0;31m---------------------------------------------------------------------------\u001b[0m",
      "\u001b[0;31mFileNotFoundError\u001b[0m                         Traceback (most recent call last)",
      "\u001b[0;32m<ipython-input-13-4270c1a326e9>\u001b[0m in \u001b[0;36m<module>\u001b[0;34m\u001b[0m\n\u001b[1;32m      1\u001b[0m \u001b[0;32mfrom\u001b[0m \u001b[0mIPython\u001b[0m\u001b[0;34m.\u001b[0m\u001b[0mdisplay\u001b[0m \u001b[0;32mimport\u001b[0m \u001b[0mHTML\u001b[0m\u001b[0;34m\u001b[0m\u001b[0m\n\u001b[0;32m----> 2\u001b[0;31m \u001b[0mHTML\u001b[0m\u001b[0;34m(\u001b[0m\u001b[0mfilename\u001b[0m\u001b[0;34m=\u001b[0m\u001b[0;34m\"cinema_databases/out_extract_cinema/index.html\"\u001b[0m\u001b[0;34m)\u001b[0m\u001b[0;34m\u001b[0m\u001b[0m\n\u001b[0m",
      "\u001b[0;32m~/Work/alpine/ascent/uberenv_libs/spack/opt/spack/darwin-highsierra-x86_64/clang-9.0.0-apple/python-3.6.3-3m3oxolx4p3opxqhhsntnmb34pececo3/lib/python3.6/site-packages/IPython/core/display.py\u001b[0m in \u001b[0;36m__init__\u001b[0;34m(self, data, url, filename, metadata)\u001b[0m\n\u001b[1;32m    693\u001b[0m         \u001b[0;32mif\u001b[0m \u001b[0mwarn\u001b[0m\u001b[0;34m(\u001b[0m\u001b[0;34m)\u001b[0m\u001b[0;34m:\u001b[0m\u001b[0;34m\u001b[0m\u001b[0m\n\u001b[1;32m    694\u001b[0m             \u001b[0mwarnings\u001b[0m\u001b[0;34m.\u001b[0m\u001b[0mwarn\u001b[0m\u001b[0;34m(\u001b[0m\u001b[0;34m\"Consider using IPython.display.IFrame instead\"\u001b[0m\u001b[0;34m)\u001b[0m\u001b[0;34m\u001b[0m\u001b[0m\n\u001b[0;32m--> 695\u001b[0;31m         \u001b[0msuper\u001b[0m\u001b[0;34m(\u001b[0m\u001b[0mHTML\u001b[0m\u001b[0;34m,\u001b[0m \u001b[0mself\u001b[0m\u001b[0;34m)\u001b[0m\u001b[0;34m.\u001b[0m\u001b[0m__init__\u001b[0m\u001b[0;34m(\u001b[0m\u001b[0mdata\u001b[0m\u001b[0;34m=\u001b[0m\u001b[0mdata\u001b[0m\u001b[0;34m,\u001b[0m \u001b[0murl\u001b[0m\u001b[0;34m=\u001b[0m\u001b[0murl\u001b[0m\u001b[0;34m,\u001b[0m \u001b[0mfilename\u001b[0m\u001b[0;34m=\u001b[0m\u001b[0mfilename\u001b[0m\u001b[0;34m,\u001b[0m \u001b[0mmetadata\u001b[0m\u001b[0;34m=\u001b[0m\u001b[0mmetadata\u001b[0m\u001b[0;34m)\u001b[0m\u001b[0;34m\u001b[0m\u001b[0m\n\u001b[0m\u001b[1;32m    696\u001b[0m \u001b[0;34m\u001b[0m\u001b[0m\n\u001b[1;32m    697\u001b[0m     \u001b[0;32mdef\u001b[0m \u001b[0m_repr_html_\u001b[0m\u001b[0;34m(\u001b[0m\u001b[0mself\u001b[0m\u001b[0;34m)\u001b[0m\u001b[0;34m:\u001b[0m\u001b[0;34m\u001b[0m\u001b[0m\n",
      "\u001b[0;32m~/Work/alpine/ascent/uberenv_libs/spack/opt/spack/darwin-highsierra-x86_64/clang-9.0.0-apple/python-3.6.3-3m3oxolx4p3opxqhhsntnmb34pececo3/lib/python3.6/site-packages/IPython/core/display.py\u001b[0m in \u001b[0;36m__init__\u001b[0;34m(self, data, url, filename, metadata)\u001b[0m\n\u001b[1;32m    618\u001b[0m             \u001b[0mself\u001b[0m\u001b[0;34m.\u001b[0m\u001b[0mmetadata\u001b[0m \u001b[0;34m=\u001b[0m \u001b[0;34m{\u001b[0m\u001b[0;34m}\u001b[0m\u001b[0;34m\u001b[0m\u001b[0m\n\u001b[1;32m    619\u001b[0m \u001b[0;34m\u001b[0m\u001b[0m\n\u001b[0;32m--> 620\u001b[0;31m         \u001b[0mself\u001b[0m\u001b[0;34m.\u001b[0m\u001b[0mreload\u001b[0m\u001b[0;34m(\u001b[0m\u001b[0;34m)\u001b[0m\u001b[0;34m\u001b[0m\u001b[0m\n\u001b[0m\u001b[1;32m    621\u001b[0m         \u001b[0mself\u001b[0m\u001b[0;34m.\u001b[0m\u001b[0m_check_data\u001b[0m\u001b[0;34m(\u001b[0m\u001b[0;34m)\u001b[0m\u001b[0;34m\u001b[0m\u001b[0m\n\u001b[1;32m    622\u001b[0m \u001b[0;34m\u001b[0m\u001b[0m\n",
      "\u001b[0;32m~/Work/alpine/ascent/uberenv_libs/spack/opt/spack/darwin-highsierra-x86_64/clang-9.0.0-apple/python-3.6.3-3m3oxolx4p3opxqhhsntnmb34pececo3/lib/python3.6/site-packages/IPython/core/display.py\u001b[0m in \u001b[0;36mreload\u001b[0;34m(self)\u001b[0m\n\u001b[1;32m    643\u001b[0m         \u001b[0;34m\"\"\"Reload the raw data from file or URL.\"\"\"\u001b[0m\u001b[0;34m\u001b[0m\u001b[0m\n\u001b[1;32m    644\u001b[0m         \u001b[0;32mif\u001b[0m \u001b[0mself\u001b[0m\u001b[0;34m.\u001b[0m\u001b[0mfilename\u001b[0m \u001b[0;32mis\u001b[0m \u001b[0;32mnot\u001b[0m \u001b[0;32mNone\u001b[0m\u001b[0;34m:\u001b[0m\u001b[0;34m\u001b[0m\u001b[0m\n\u001b[0;32m--> 645\u001b[0;31m             \u001b[0;32mwith\u001b[0m \u001b[0mopen\u001b[0m\u001b[0;34m(\u001b[0m\u001b[0mself\u001b[0m\u001b[0;34m.\u001b[0m\u001b[0mfilename\u001b[0m\u001b[0;34m,\u001b[0m \u001b[0mself\u001b[0m\u001b[0;34m.\u001b[0m\u001b[0m_read_flags\u001b[0m\u001b[0;34m)\u001b[0m \u001b[0;32mas\u001b[0m \u001b[0mf\u001b[0m\u001b[0;34m:\u001b[0m\u001b[0;34m\u001b[0m\u001b[0m\n\u001b[0m\u001b[1;32m    646\u001b[0m                 \u001b[0mself\u001b[0m\u001b[0;34m.\u001b[0m\u001b[0mdata\u001b[0m \u001b[0;34m=\u001b[0m \u001b[0mf\u001b[0m\u001b[0;34m.\u001b[0m\u001b[0mread\u001b[0m\u001b[0;34m(\u001b[0m\u001b[0;34m)\u001b[0m\u001b[0;34m\u001b[0m\u001b[0m\n\u001b[1;32m    647\u001b[0m         \u001b[0;32melif\u001b[0m \u001b[0mself\u001b[0m\u001b[0;34m.\u001b[0m\u001b[0murl\u001b[0m \u001b[0;32mis\u001b[0m \u001b[0;32mnot\u001b[0m \u001b[0;32mNone\u001b[0m\u001b[0;34m:\u001b[0m\u001b[0;34m\u001b[0m\u001b[0m\n",
      "\u001b[0;31mFileNotFoundError\u001b[0m: [Errno 2] No such file or directory: 'cinema_databases/out_extract_cinema/index.html'"
     ]
    }
   ],
   "source": [
    "from IPython.display import HTML\n",
    "HTML(filename=\"cinema_databases/out_extract_cinema/index.html\")"
   ]
  }
 ],
 "metadata": {
  "kernelspec": {
   "display_name": "Python 3",
   "language": "python",
   "name": "python3"
  },
  "language_info": {
   "codemirror_mode": {
    "name": "ipython",
    "version": 3
   },
   "file_extension": ".py",
   "mimetype": "text/x-python",
   "name": "python",
   "nbconvert_exporter": "python",
   "pygments_lexer": "ipython3",
   "version": "3.6.3"
  }
 },
 "nbformat": 4,
 "nbformat_minor": 2
}
