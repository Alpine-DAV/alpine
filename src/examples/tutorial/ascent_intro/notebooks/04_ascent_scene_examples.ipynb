{
 "cells": [
  {
   "cell_type": "markdown",
   "metadata": {},
   "source": [
    "# Rendering images with Scenes\n",
    "Scenes are the construct used to render pictures of meshes in Ascent. A scene description encapsulates all the information required to generate one or more images. Scenes can render mesh data published to Ascent or the result of an Ascent Pipeline.  This section of the tutorial provides a few simple examples demonstrating how to describe and render scenes. See Ascent's [Scene](https://ascent.readthedocs.io/en/latest/Actions/Scenes.html) docs for deeper details on scenes."
   ]
  },
  {
   "cell_type": "code",
   "execution_count": null,
   "metadata": {},
   "outputs": [],
   "source": [
    "# remove this\n",
    "import sys\n",
    "sys.path.append(\"/Users/harrison37/Work/alpine/ascent/install-debug/python-modules/\")"
   ]
  },
  {
   "cell_type": "code",
   "execution_count": null,
   "metadata": {},
   "outputs": [],
   "source": [
    "# cleanup any old results\n",
    "!./cleanup.sh\n",
    "# ascent + conduit imports\n",
    "import conduit\n",
    "import conduit.blueprint\n",
    "import ascent\n",
    "\n",
    "import numpy as np\n",
    "\n",
    "# Jupyter imports\n",
    "from IPython.display import Image\n",
    "# helper we use when displaying results in the notebook\n",
    "img_display_width = 500"
   ]
  },
  {
   "cell_type": "markdown",
   "metadata": {},
   "source": [
    "### Prepare a tet mesh as in the prior Mesh Blueprint examples"
   ]
  },
  {
   "cell_type": "code",
   "execution_count": null,
   "metadata": {},
   "outputs": [],
   "source": [
    "mesh = conduit.Node()\n",
    "# create an explicit coordinate set\n",
    "x = np.array( [-1.0, 0.0, 0.0, 0.0, 1.0 ], dtype=np.float64 )\n",
    "y = np.array( [0.0, -1.0, 0.0, 1.0, 0.0 ], dtype=np.float64 )\n",
    "z = np.array( [ 0.0, 0.0, 1.0, 0.0, 0.0 ], dtype=np.float64 )\n",
    "\n",
    "mesh[\"coordsets/coords/type\"] = \"explicit\";\n",
    "mesh[\"coordsets/coords/values/x\"].set_external(x)\n",
    "mesh[\"coordsets/coords/values/y\"].set_external(y)\n",
    "mesh[\"coordsets/coords/values/z\"].set_external(z)\n",
    "\n",
    "# reference the coordinate set by name\n",
    "mesh[\"topologies/mesh/type\"] = \"unstructured\"\n",
    "mesh[\"topologies/mesh/coordset\"] = \"coords\"\n",
    "mesh[\"topologies/mesh/elements/shape\"] = \"tet\"\n",
    "\n",
    "connectivity = np.array([0, 1, 3, 2, 4, 3, 1, 2 ],dtype=np.int64)\n",
    "mesh[\"topologies/mesh/elements/connectivity\"].set_external(connectivity)\n",
    "\n",
    "num_elements = 2\n",
    "    \n",
    "var1 = np.array([0,1],dtype=np.float32)\n",
    "var2 = np.array([1,0],dtype=np.float32)\n",
    "\n",
    "mesh[\"fields/var1/association\"] = \"element\"\n",
    "mesh[\"fields/var1/topology\"] = \"mesh\"\n",
    "mesh[\"fields/var1/volume_dependent\"] = \"false\"\n",
    "mesh[\"fields/var1/values\"].set_external(var1)\n",
    "\n",
    "mesh[\"fields/var2/association\"] = \"element\"\n",
    "mesh[\"fields/var2/topology\"] = \"mesh\"\n",
    "mesh[\"fields/var2/volume_dependent\"] = \"false\"\n",
    "mesh[\"fields/var2/values\"].set_external(var2)"
   ]
  },
  {
   "cell_type": "code",
   "execution_count": null,
   "metadata": {},
   "outputs": [],
   "source": [
    "# make sure the mesh we created conforms to the blueprint\n",
    "verify_info = conduit.Node()\n",
    "if not conduit.blueprint.mesh.verify(mesh,verify_info):\n",
    "    print(\"Mesh Verify failed!\")\n",
    "    print(verify_info.to_yaml())\n",
    "else:\n",
    "    print(\"Mesh verify success!\")"
   ]
  },
  {
   "cell_type": "markdown",
   "metadata": {},
   "source": [
    "## Scene Example 1\n",
    "### Using multiple scenes to render different variables"
   ]
  },
  {
   "cell_type": "code",
   "execution_count": null,
   "metadata": {},
   "outputs": [],
   "source": [
    "a = ascent.Ascent()\n",
    "a.open()\n",
    "a.publish(mesh);\n",
    "\n",
    "# setup actions\n",
    "actions = conduit.Node()\n",
    "add_act = actions.append()\n",
    "add_act[\"action\"] = \"add_scenes\"\n",
    "\n",
    "# declare two scenes (s1 and s2) to render the dataset\n",
    "scenes = add_act[\"scenes\"]\n",
    "# our first scene (named 's1') will render the field 'var1'\n",
    "scenes[\"s1/plots/p1/type\"] = \"pseudocolor\";\n",
    "scenes[\"s1/plots/p1/field\"] = \"var1\";\n",
    "scenes[\"s1/image_name\"] = \"out_scene_ex1_render_var1\";\n",
    "\n",
    "# our second scene (named 's2') will render the field 'var2'\n",
    "# to the file out_scene_ex1_render_var2.png\n",
    "scenes[\"s2/plots/p1/type\"] = \"pseudocolor\";\n",
    "scenes[\"s2/plots/p1/field\"] = \"var2\";\n",
    "scenes[\"s2/image_name\"] = \"out_scene_ex1_render_var2\";\n",
    "\n",
    "\n",
    "# print our full actions tree\n",
    "print(actions.to_yaml())\n",
    "\n",
    "# execute\n",
    "a.execute(actions)\n",
    "\n",
    "a.close()"
   ]
  },
  {
   "cell_type": "code",
   "execution_count": null,
   "metadata": {},
   "outputs": [],
   "source": [
    "# Show scene 1 result\n",
    "Image(\"out_scene_ex1_render_var1.png\",width=img_display_width)"
   ]
  },
  {
   "cell_type": "code",
   "execution_count": null,
   "metadata": {},
   "outputs": [],
   "source": [
    "# Show scene 2 result\n",
    "Image(\"out_scene_ex1_render_var2.png\",width=img_display_width)"
   ]
  },
  {
   "cell_type": "markdown",
   "metadata": {},
   "source": [
    "## Scene Example 2\n",
    "### Rendering multiple plots to a single image"
   ]
  },
  {
   "cell_type": "code",
   "execution_count": null,
   "metadata": {},
   "outputs": [],
   "source": [
    "a = ascent.Ascent()\n",
    "a.open()\n",
    "a.publish(mesh)\n",
    "\n",
    "# setup actions\n",
    "actions = conduit.Node()\n",
    "add_act = actions.append()\n",
    "add_act[\"action\"] = \"add_scenes\"\n",
    "\n",
    "# declare a scene to render the dataset\n",
    "scenes = add_act[\"scenes\"]\n",
    "# add a pseudocolor plot (`p1`)\n",
    "scenes[\"s1/plots/p1/type\"] = \"pseudocolor\"\n",
    "scenes[\"s1/plots/p1/field\"] = \"var1\"\n",
    "# add a mesh plot (`p1`) \n",
    "# (experiment with commenting this out)\n",
    "scenes[\"s1/plots/p2/type\"] = \"mesh\"\n",
    "scenes[\"s1/image_name\"] = \"out_scene_ex2_render_two_plots\"\n",
    "\n",
    "# print our full actions tree\n",
    "print(actions.to_yaml())\n",
    "\n",
    "# execute\n",
    "a.execute(actions)\n",
    "\n",
    "a.close()"
   ]
  },
  {
   "cell_type": "code",
   "execution_count": null,
   "metadata": {},
   "outputs": [],
   "source": [
    "# The scene renders both plots togehter\n",
    "Image(\"out_scene_ex2_render_two_plots.png\",width=img_display_width)"
   ]
  },
  {
   "cell_type": "markdown",
   "metadata": {},
   "source": [
    "# Scene Example 3\n",
    "## Adjusting camera parameters\n",
    "Related docs: [Renders](https://ascent.readthedocs.io/en/latest/Actions/Scenes.html#renders-optional)"
   ]
  },
  {
   "cell_type": "code",
   "execution_count": null,
   "metadata": {},
   "outputs": [],
   "source": [
    "a = ascent.Ascent()\n",
    "a.open()\n",
    "a.publish(mesh)\n",
    "\n",
    "# setup our actions\n",
    "actions = conduit.Node()\n",
    "add_act = actions.append()\n",
    "add_act[\"action\"] = \"add_scenes\"\n",
    "\n",
    "# declare a scene to render the dataset\n",
    "scenes = add_act[\"scenes\"]\n",
    "\n",
    "#\n",
    "# You can define renders to control the parameters of a single output image.\n",
    "# Scenes support multiple renders.\n",
    "# \n",
    "# See the Renders docs for more details:\n",
    "# https://ascent.readthedocs.io/en/latest/Actions/Scenes.html#renders-optional\n",
    "#\n",
    "\n",
    "# setup our scene (s1) with two renders (r1 and r2)\n",
    "scenes[\"s1/plots/p1/type\"] = \"pseudocolor\"\n",
    "scenes[\"s1/plots/p1/field\"] = \"var1\"\n",
    "\n",
    "# render a view (r1) with a slight adjustment to camera azimuth\n",
    "scenes[\"s1/renders/r1/image_name\"] = \"out_scene_ex3_view1\";\n",
    "scenes[\"s1/renders/r1/camera/azimuth\"] = 10.0;\n",
    "\n",
    "# render a view (r2) that zooms in from the default camera\n",
    "scenes[\"s1/renders/r2/image_name\"] = \"out_scene_ex3_view2\";\n",
    "scenes[\"s1/renders/r2/camera/zoom\"] = 3.0;\n",
    "\n",
    "# print our full actions tree\n",
    "print(actions.to_yaml())\n",
    "\n",
    "# execute\n",
    "a.execute(actions)\n",
    "\n",
    "a.close()"
   ]
  },
  {
   "cell_type": "code",
   "execution_count": null,
   "metadata": {},
   "outputs": [],
   "source": [
    "# Show result of first render (r1)\n",
    "Image(\"out_scene_ex3_view1.png\",width=img_display_width)"
   ]
  },
  {
   "cell_type": "code",
   "execution_count": null,
   "metadata": {},
   "outputs": [],
   "source": [
    "# Show result of second render (r2)\n",
    "Image(\"out_scene_ex3_view2.png\",width=img_display_width)"
   ]
  },
  {
   "cell_type": "markdown",
   "metadata": {},
   "source": [
    "# Scene Example 4\n",
    "## Changing color tables\n",
    "\n",
    "Related docs: [Color Tables](https://ascent.readthedocs.io/en/latest/Actions/Scenes.html#color-tables)"
   ]
  },
  {
   "cell_type": "code",
   "execution_count": null,
   "metadata": {},
   "outputs": [],
   "source": [
    "a = ascent.Ascent()\n",
    "a.open()\n",
    "a.publish(mesh)\n",
    "\n",
    "# setup actions\n",
    "actions = conduit.Node()\n",
    "add_act = actions.append()\n",
    "add_act[\"action\"] = \"add_scenes\"\n",
    "\n",
    "# declare a two scenes (s1 and s2) to render the dataset\n",
    "# using different color tables\n",
    "#\n",
    "# See the Color Tables docs for more details on what is supported:\n",
    "# https://ascent.readthedocs.io/en/latest/Actions/Scenes.html#color-tables\n",
    "#\n",
    "scenes = add_act[\"scenes\"]\n",
    "\n",
    "# the first scene (s1) will render a pseudocolor \n",
    "# plot using Viridis color table\n",
    "scenes[\"s1/plots/p1/type\"] = \"pseudocolor\";\n",
    "scenes[\"s1/plots/p1/field\"] = \"var1\"\n",
    "scenes[\"s1/plots/p1/color_table/name\"] = \"Viridis\"\n",
    "scenes[\"s1/image_name\"] = \"out_scene_ex4_render_viridis\"\n",
    "\n",
    "# the first scene (s2) will render a pseudocolor \n",
    "# plot using Inferno color table\n",
    "scenes[\"s2/plots/p1/type\"] = \"pseudocolor\"\n",
    "scenes[\"s2/plots/p1/field\"] = \"var1\"\n",
    "scenes[\"s2/plots/p1/color_table/name\"] = \"Inferno\"\n",
    "scenes[\"s2/image_name\"] = \"out_scene_ex4_render_inferno\"\n",
    "\n",
    "\n",
    "# print our full actions tree\n",
    "print(actions.to_yaml())\n",
    "\n",
    "\n",
    "# execute\n",
    "a.execute(actions)\n",
    "\n",
    "a.close()"
   ]
  },
  {
   "cell_type": "code",
   "execution_count": null,
   "metadata": {},
   "outputs": [],
   "source": [
    "# show the resulting images\n",
    "Image(\"out_scene_ex4_render_viridis.png\",width=img_display_width)"
   ]
  },
  {
   "cell_type": "code",
   "execution_count": null,
   "metadata": {},
   "outputs": [],
   "source": [
    "# show the resulting images\n",
    "Image(\"out_scene_ex4_render_inferno.png\",width=img_display_width)"
   ]
  }
 ],
 "metadata": {
  "kernelspec": {
   "display_name": "Python 3",
   "language": "python",
   "name": "python3"
  },
  "language_info": {
   "codemirror_mode": {
    "name": "ipython",
    "version": 3
   },
   "file_extension": ".py",
   "mimetype": "text/x-python",
   "name": "python",
   "nbconvert_exporter": "python",
   "pygments_lexer": "ipython3",
   "version": "3.6.3"
  }
 },
 "nbformat": 4,
 "nbformat_minor": 2
}
