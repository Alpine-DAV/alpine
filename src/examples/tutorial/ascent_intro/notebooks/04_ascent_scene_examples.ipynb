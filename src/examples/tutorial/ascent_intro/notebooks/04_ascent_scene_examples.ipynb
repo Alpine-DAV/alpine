{
 "cells": [
  {
   "cell_type": "code",
   "execution_count": null,
   "metadata": {},
   "outputs": [],
   "source": [
    "# remove this\n",
    "import sys\n",
    "sys.path.append(\"/Users/harrison37/Work/alpine/ascent/install-debug/python-modules/\")"
   ]
  },
  {
   "cell_type": "code",
   "execution_count": null,
   "metadata": {},
   "outputs": [],
   "source": [
    "# cleanup any old results\n",
    "!./cleanup.sh"
   ]
  },
  {
   "cell_type": "code",
   "execution_count": null,
   "metadata": {},
   "outputs": [],
   "source": [
    "# ascent + conduit imports\n",
    "import conduit\n",
    "import conduit.blueprint\n",
    "import ascent\n",
    "\n",
    "import numpy as np\n",
    "\n",
    "# Jupyter imports\n",
    "from IPython.display import Image\n",
    "# helper we use when displaying results in the notebook\n",
    "img_display_width = 500"
   ]
  },
  {
   "cell_type": "code",
   "execution_count": null,
   "metadata": {},
   "outputs": [],
   "source": [
    "mesh = conduit.Node()\n",
    "# create an explicit coordinate set\n",
    "x = np.array( [-1.0, 0.0, 0.0, 0.0, 1.0 ], dtype=np.float64 )\n",
    "y = np.array( [0.0, -1.0, 0.0, 1.0, 0.0 ], dtype=np.float64 )\n",
    "z = np.array( [ 0.0, 0.0, 1.0, 0.0, 0.0 ], dtype=np.float64 )\n",
    "\n",
    "mesh[\"coordsets/coords/type\"] = \"explicit\";\n",
    "mesh[\"coordsets/coords/values/x\"].set_external(x)\n",
    "mesh[\"coordsets/coords/values/y\"].set_external(y)\n",
    "mesh[\"coordsets/coords/values/z\"].set_external(z)\n",
    "\n",
    "# reference the coordinate set by name\n",
    "mesh[\"topologies/mesh/type\"] = \"unstructured\"\n",
    "mesh[\"topologies/mesh/coordset\"] = \"coords\"\n",
    "mesh[\"topologies/mesh/elements/shape\"] = \"tet\"\n",
    "\n",
    "connectivity = np.array([0, 1, 3, 2, 4, 3, 1, 2 ],dtype=np.int64)\n",
    "mesh[\"topologies/mesh/elements/connectivity\"].set_external(connectivity)\n",
    "\n",
    "num_elements = 2\n",
    "    \n",
    "var1 = np.array([0,1],dtype=np.float32)\n",
    "var2 = np.array([1,0],dtype=np.float32)\n",
    "\n",
    "mesh[\"fields/var1/association\"] = \"element\"\n",
    "mesh[\"fields/var1/topology\"] = \"mesh\"\n",
    "mesh[\"fields/var1/volume_dependent\"] = \"false\"\n",
    "mesh[\"fields/var1/values\"].set_external(var1)\n",
    "\n",
    "mesh[\"fields/var2/association\"] = \"element\"\n",
    "mesh[\"fields/var2/topology\"] = \"mesh\"\n",
    "mesh[\"fields/var2/volume_dependent\"] = \"false\"\n",
    "mesh[\"fields/var2/values\"].set_external(var2)"
   ]
  },
  {
   "cell_type": "code",
   "execution_count": null,
   "metadata": {},
   "outputs": [],
   "source": [
    "# make sure we conform\n",
    "verify_info = conduit.Node()\n",
    "if not conduit.blueprint.mesh.verify(mesh,verify_info):\n",
    "    print(\"Mesh Verify failed!\")\n",
    "    print(verify_info)\n",
    "else:\n",
    "    print(\"Mesh verify success!\")"
   ]
  },
  {
   "cell_type": "markdown",
   "metadata": {},
   "source": [
    "# Example 1"
   ]
  },
  {
   "cell_type": "code",
   "execution_count": null,
   "metadata": {},
   "outputs": [],
   "source": [
    "# render with ascent\n",
    "a = ascent.Ascent()\n",
    "a.open()\n",
    "\n",
    "# publish mesh to ascent\n",
    "a.publish(mesh);\n",
    "\n",
    "# declare a scene to render the dataset\n",
    "scenes = conduit.Node()\n",
    "scenes[\"s1/plots/p1/type\"] = \"pseudocolor\";\n",
    "scenes[\"s1/plots/p1/field\"] = \"var1\";\n",
    "scenes[\"s1/image_prefix\"] = \"out_scene_ex1_render_var1_\";\n",
    "\n",
    "scenes[\"s2/plots/p1/type\"] = \"pseudocolor\";\n",
    "scenes[\"s2/plots/p1/field\"] = \"var2\";\n",
    "scenes[\"s2/image_prefix\"] = \"out_scene_ex1_render_var2_\";\n",
    "\n",
    "# setup actions\n",
    "actions = conduit.Node()\n",
    "add_act = actions.append()\n",
    "add_act[\"action\"] = \"add_scenes\"\n",
    "add_act[\"scenes\"] = scenes\n",
    "\n",
    "# print our full actions tree\n",
    "print(actions.to_yaml())\n",
    "\n",
    "# execute\n",
    "a.execute(actions)\n",
    "\n",
    "a.close()"
   ]
  },
  {
   "cell_type": "code",
   "execution_count": null,
   "metadata": {},
   "outputs": [],
   "source": [
    "# show the resulting images\n",
    "Image(\"out_scene_ex1_render_var1_0.png\",width=img_display_width)"
   ]
  },
  {
   "cell_type": "code",
   "execution_count": null,
   "metadata": {},
   "outputs": [],
   "source": [
    "Image(\"out_scene_ex1_render_var2_0.png\",width=img_display_width)"
   ]
  },
  {
   "cell_type": "markdown",
   "metadata": {},
   "source": [
    "# Example 2"
   ]
  },
  {
   "cell_type": "code",
   "execution_count": null,
   "metadata": {},
   "outputs": [],
   "source": [
    "a = ascent.Ascent()\n",
    "a.open()\n",
    "a.publish(mesh)\n",
    "\n",
    "# declare a scene to render the dataset\n",
    "scenes = conduit.Node()\n",
    "scenes[\"s1/plots/p1/type\"] = \"pseudocolor\"\n",
    "scenes[\"s1/plots/p1/field\"] = \"var1\"\n",
    "scenes[\"s1/plots/p2/type\"] = \"mesh\"\n",
    "scenes[\"s1/image_prefix\"] = \"out_scene_ex2_render_two_plots_\"\n",
    "\n",
    "# setup actions\n",
    "actions = conduit.Node()\n",
    "add_act = actions.append()\n",
    "add_act[\"action\"] = \"add_scenes\"\n",
    "add_act[\"scenes\"] = scenes\n",
    "\n",
    "# print our full actions tree\n",
    "print(actions.to_yaml())\n",
    "\n",
    "\n",
    "# execute\n",
    "a.execute(actions)\n",
    "\n",
    "a.close()"
   ]
  },
  {
   "cell_type": "code",
   "execution_count": null,
   "metadata": {},
   "outputs": [],
   "source": [
    "# show the resulting images\n",
    "Image(\"out_scene_ex2_render_two_plots_0.png\",width=img_display_width)"
   ]
  },
  {
   "cell_type": "markdown",
   "metadata": {},
   "source": [
    "# Example 3"
   ]
  },
  {
   "cell_type": "code",
   "execution_count": null,
   "metadata": {},
   "outputs": [],
   "source": [
    "a = ascent.Ascent()\n",
    "a.open()\n",
    "a.publish(mesh)\n",
    "\n",
    "# declare a scene to render the dataset\n",
    "scenes = conduit.Node()\n",
    "scenes[\"s1/plots/p1/type\"] = \"pseudocolor\"\n",
    "scenes[\"s1/plots/p1/field\"] = \"var1\"\n",
    "scenes[\"s1/renders/r1/image_name\"] = \"out_scene_ex2_view1_\";\n",
    "scenes[\"s1/renders/r2/image_name\"] = \"out_scene_ex2_view2_\";\n",
    "scenes[\"s1/renders/r2/camera/zoom\"] = 3.0;\n",
    "\n",
    "# setup actions\n",
    "actions = conduit.Node()\n",
    "add_act = actions.append()\n",
    "add_act[\"action\"] = \"add_scenes\"\n",
    "add_act[\"scenes\"] = scenes\n",
    "\n",
    "# print our full actions tree\n",
    "print(actions.to_yaml())\n",
    "\n",
    "# execute\n",
    "a.execute(actions)\n",
    "\n",
    "a.close()"
   ]
  },
  {
   "cell_type": "code",
   "execution_count": null,
   "metadata": {},
   "outputs": [],
   "source": [
    "# show the resulting images\n",
    "Image(\"out_scene_ex2_view1_0.png\",width=img_display_width)"
   ]
  },
  {
   "cell_type": "code",
   "execution_count": null,
   "metadata": {},
   "outputs": [],
   "source": [
    "# show the resulting images\n",
    "Image(\"out_scene_ex2_view2_0.png\",width=img_display_width)"
   ]
  },
  {
   "cell_type": "markdown",
   "metadata": {},
   "source": [
    "# Example 4"
   ]
  },
  {
   "cell_type": "code",
   "execution_count": null,
   "metadata": {},
   "outputs": [],
   "source": [
    "a = ascent.Ascent()\n",
    "a.open()\n",
    "a.publish(mesh)\n",
    "\n",
    "# declare a scene to render the dataset\n",
    "scenes = conduit.Node()\n",
    "scenes[\"s1/plots/p1/type\"] = \"pseudocolor\";\n",
    "scenes[\"s1/plots/p1/field\"] = \"var1\"\n",
    "scenes[\"s1/plots/p1/color_table/name\"] = \"Viridis\"\n",
    "scenes[\"s1/image_prefix\"] = \"out_scene_ex4_render_viridis_\"\n",
    "\n",
    "scenes[\"s2/plots/p1/type\"] = \"pseudocolor\"\n",
    "scenes[\"s2/plots/p1/field\"] = \"var1\"\n",
    "scenes[\"s2/plots/p1/color_table/name\"] = \"Inferno\"\n",
    "scenes[\"s2/image_prefix\"] = \"out_scene_ex4_render_inferno_\"\n",
    "\n",
    "# setup actions\n",
    "actions = conduit.Node()\n",
    "add_act = actions.append()\n",
    "add_act[\"action\"] = \"add_scenes\"\n",
    "add_act[\"scenes\"] = scenes\n",
    "\n",
    "# print our full actions tree\n",
    "print(actions.to_yaml())\n",
    "\n",
    "\n",
    "# execute\n",
    "a.execute(actions)\n",
    "\n",
    "a.close()"
   ]
  },
  {
   "cell_type": "code",
   "execution_count": null,
   "metadata": {},
   "outputs": [],
   "source": [
    "# show the resulting images\n",
    "Image(\"out_scene_ex4_render_viridis_0.png\",width=img_display_width)"
   ]
  },
  {
   "cell_type": "code",
   "execution_count": null,
   "metadata": {},
   "outputs": [],
   "source": [
    "# show the resulting images\n",
    "Image(\"out_scene_ex4_render_inferno_0.png\",width=img_display_width)"
   ]
  }
 ],
 "metadata": {
  "kernelspec": {
   "display_name": "Python 3",
   "language": "python",
   "name": "python3"
  },
  "language_info": {
   "codemirror_mode": {
    "name": "ipython",
    "version": 3
   },
   "file_extension": ".py",
   "mimetype": "text/x-python",
   "name": "python",
   "nbconvert_exporter": "python",
   "pygments_lexer": "ipython3",
   "version": "3.6.3"
  }
 },
 "nbformat": 4,
 "nbformat_minor": 2
}
