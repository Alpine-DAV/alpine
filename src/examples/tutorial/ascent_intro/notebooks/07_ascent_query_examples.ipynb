{
 "cells": [
  {
   "cell_type": "code",
   "execution_count": 1,
   "metadata": {},
   "outputs": [],
   "source": [
    "# remove this\n",
    "import sys\n",
    "import math\n",
    "import numpy as np\n",
    "import matplotlib.pyplot as plt\n",
    "\n",
    "#sys.path.append(\"/Users/harrison37/Work/alpine/ascent/install-debug/python-modules/\")\n",
    "sys.path.append(\"/Users/larsen30/research/test_builds/release/ascent/install/python-modules\")\n",
    "\n",
    "# Ascent imports\n",
    "import conduit\n",
    "import conduit.blueprint\n",
    "import ascent"
   ]
  },
  {
   "cell_type": "code",
   "execution_count": 2,
   "metadata": {},
   "outputs": [],
   "source": [
    "# cleanup any old results\n",
    "!./cleanup.sh"
   ]
  },
  {
   "cell_type": "code",
   "execution_count": 3,
   "metadata": {},
   "outputs": [],
   "source": [
    "def create_mesh(time):\n",
    "\n",
    "    mesh1 = conduit.Node()\n",
    "    xy_dims = 40\n",
    "    z_dims = 2\n",
    "    \n",
    "    conduit.blueprint.mesh.examples.braid(\"hexs\",\n",
    "                                          xy_dims,\n",
    "                                          xy_dims,\n",
    "                                          z_dims,\n",
    "                                          mesh1)\n",
    "\n",
    "    field = mesh1[\"fields/gyre\"]\n",
    "    field[\"association\"] = \"vertex\"\n",
    "    field[\"topology\"] = \"mesh\"\n",
    "    # https://shaddenlab.berkeley.edu/uploads/LCS-tutorial/examples.html\n",
    "    values = np.zeros(xy_dims*xy_dims*z_dims)\n",
    "\n",
    "\n",
    "    e = 0.25\n",
    "    A = 0.1\n",
    "    w = (2.0 * math.pi) / 10.0\n",
    "    a_t = e * math.sin(w * time)\n",
    "    b_t = 1.0 - 2 * e * math.sin(w * time)\n",
    "    #print(\"e: \" + str(e) + \" A \" + str(A) + \" w \" + str(w) + \" a_t \" + str(a_t) + \" b_t \" + str(b_t))\n",
    "    #print(b_t)\n",
    "    #print(w)\n",
    "    idx = 0\n",
    "    for z in range(z_dims):\n",
    "        for y in range(xy_dims):\n",
    "            # scale y to 0-1\n",
    "            y_n = float(y)/float(xy_dims)\n",
    "            y_t = math.sin(math.pi * y_n)\n",
    "            for x in range(xy_dims):\n",
    "                # scale x to 0-1\n",
    "                x_f = float(x)/ (float(xy_dims) * .5)\n",
    "                f_t = a_t * x_f * x_f + b_t * x_f\n",
    "                #print(f_t)\n",
    "                value = A * math.sin(math.pi * f_t) * y_t\n",
    "                u = -math.pi * A * math.sin(math.pi * f_t) * math.cos(math.pi * y_n)\n",
    "                df_dx = 2.0 * a_t + b_t\n",
    "                #print(\"df_dx \" + str(df_dx))\n",
    "                v = math.pi * A * math.cos(math.pi * f_t) * math.sin(math.pi * y_n) * df_dx\n",
    "                values[idx] = math.sqrt(u * u + v * v)\n",
    "                #values[idx] = u * u + v * v\n",
    "                #values[idx] = value\n",
    "                #print(\"u \" + str(u) + \" v \" + str(v) + \" mag \" + str(math.sqrt(u * u + v * v)))\n",
    "                idx = idx + 1\n",
    "\n",
    "    #print(values)\n",
    "    field[\"values\"] = values  \n",
    "    return mesh1\n"
   ]
  },
  {
   "cell_type": "code",
   "execution_count": 4,
   "metadata": {},
   "outputs": [
    {
     "name": "stdout",
     "output_type": "stream",
     "text": [
      "\n",
      "- \n",
      "  action: \"add_queries\"\n",
      "  queries: \n",
      "    q1: \n",
      "      params: \n",
      "        expression: \"cycle()\"\n",
      "        name: \"cycle\"\n",
      "    q2: \n",
      "      params: \n",
      "        expression: \"entropy(histogram(field('gyre'), num_bins=128))\"\n",
      "        name: \"entropy_of_gyre\"\n",
      "- \n",
      "  action: \"add_scenes\"\n",
      "  scenes: \n",
      "    s1: \n",
      "      plots: \n",
      "        p1: \n",
      "          type: \"pseudocolor\"\n",
      "          field: \"gyre\"\n",
      "      image_name: \"out_gyre\"\n",
      "\n"
     ]
    }
   ],
   "source": [
    "\n",
    "# Jupyter imports\n",
    "from IPython.display import Image\n",
    "# helper we use when displaying results in the notebook\n",
    "img_display_width = 500\n",
    "\n",
    "\n",
    "\n",
    "# open ascent\n",
    "a = ascent.Ascent()\n",
    "a.open()\n",
    "\n",
    "\n",
    "# Setup actions to tell Ascent what to do\n",
    "# add our expressions definiton to the actions\n",
    "actions = conduit.Node()\n",
    "add_act = actions.append()\n",
    "add_act[\"action\"] = \"add_queries\"\n",
    "\n",
    "# declare a query action to ask some questions\n",
    "queries = add_act[\"queries\"] \n",
    "\n",
    "# add a simple query expression\n",
    "queries[\"q1/params/expression\"] = \"cycle()\"\n",
    "queries[\"q1/params/name\"] = \"cycle\"\n",
    "\n",
    "# add a more complex query expression\n",
    "queries[\"q2/params/expression\"] = \"entropy(histogram(field('gyre'), num_bins=128))\"\n",
    "queries[\"q2/params/name\"] = \"entropy_of_gyre\"\n",
    "\n",
    "# declare a scene to render the dataset\n",
    "add_scenes = actions.append()\n",
    "add_scenes[\"action\"] = \"add_scenes\"\n",
    "scenes = add_scenes[\"scenes\"] \n",
    "scenes[\"s1/plots/p1/type\"] = \"pseudocolor\"\n",
    "scenes[\"s1/plots/p1/field\"] = \"gyre\"\n",
    "# Set the output file name (ascent will add \".png\")\n",
    "scenes[\"s1/image_name\"] = \"out_gyre\"\n",
    "\n",
    "# view our full actions tree\n",
    "print(actions.to_yaml())\n",
    "\n",
    "nsteps = 10\n",
    "time = 0.0\n",
    "delta_time = 0.5\n",
    "\n",
    "\n",
    "for step in range(nsteps):\n",
    "    # create example mesh using conduit blueprint\n",
    "    mesh = create_mesh(time)\n",
    "    # update the examples default cycle\n",
    "    mesh[\"state/cycle\"] = 100 + step * 100\n",
    "    time = time + delta_time\n",
    "    # publish mesh to ascent\n",
    "    a.publish(mesh)\n",
    "    \n",
    "    # update image name\n",
    "    scenes[\"s1/image_name\"] = \"out_gyre_%04d\" % step;\n",
    "    # execute\n",
    "    a.execute(actions)\n",
    "    \n",
    "# retrieve the info node that contains the query results\n",
    "info = conduit.Node()\n",
    "a.info(info)\n",
    "\n",
    "# close ascent\n",
    "a.close()"
   ]
  },
  {
   "cell_type": "code",
   "execution_count": 5,
   "metadata": {},
   "outputs": [
    {
     "name": "stdout",
     "output_type": "stream",
     "text": [
      "\n",
      "100: \n",
      "  type: \"int\"\n",
      "  value: 100\n",
      "200: \n",
      "  type: \"int\"\n",
      "  value: 200\n",
      "300: \n",
      "  type: \"int\"\n",
      "  value: 300\n",
      "400: \n",
      "  type: \"int\"\n",
      "  value: 400\n",
      "500: \n",
      "  type: \"int\"\n",
      "  value: 500\n",
      "600: \n",
      "  type: \"int\"\n",
      "  value: 600\n",
      "700: \n",
      "  type: \"int\"\n",
      "  value: 700\n",
      "800: \n",
      "  type: \"int\"\n",
      "  value: 800\n",
      "900: \n",
      "  type: \"int\"\n",
      "  value: 900\n",
      "1000: \n",
      "  type: \"int\"\n",
      "  value: 1000\n",
      "\n"
     ]
    }
   ],
   "source": [
    "# view the results of the cycle query\n",
    "print(info[\"expressions/cycle\"].to_yaml())\n",
    "# Note that query results can be indexed by cycle"
   ]
  },
  {
   "cell_type": "code",
   "execution_count": 6,
   "metadata": {},
   "outputs": [
    {
     "name": "stdout",
     "output_type": "stream",
     "text": [
      "\n",
      "100: \n",
      "  value: 3.81580590726479\n",
      "  type: \"double\"\n",
      "200: \n",
      "  value: 4.43027379899862\n",
      "  type: \"double\"\n",
      "300: \n",
      "  value: 4.42357515605932\n",
      "  type: \"double\"\n",
      "400: \n",
      "  value: 4.4133821818731\n",
      "  type: \"double\"\n",
      "500: \n",
      "  value: 4.40290017527564\n",
      "  type: \"double\"\n",
      "600: \n",
      "  value: 4.3643209637501\n",
      "  type: \"double\"\n",
      "700: \n",
      "  value: 4.40290017527564\n",
      "  type: \"double\"\n",
      "800: \n",
      "  value: 4.4133821818731\n",
      "  type: \"double\"\n",
      "900: \n",
      "  value: 4.42357515605932\n",
      "  type: \"double\"\n",
      "1000: \n",
      "  value: 4.43027379899862\n",
      "  type: \"double\"\n",
      "\n"
     ]
    }
   ],
   "source": [
    "# view the results of the cycle query\n",
    "print(info[\"expressions/entropy_of_gyre\"].to_yaml())"
   ]
  },
  {
   "cell_type": "code",
   "execution_count": null,
   "metadata": {},
   "outputs": [],
   "source": []
  },
  {
   "cell_type": "code",
   "execution_count": 7,
   "metadata": {},
   "outputs": [
    {
     "data": {
      "application/vnd.jupyter.widget-view+json": {
       "model_id": "3a3ea2e8c48b49c2a65325f5c9f87518",
       "version_major": 2,
       "version_minor": 0
      },
      "text/plain": [
       "VBox(children=(Image(value=b'\\x89PNG\\r\\n\\x1a\\n\\x00\\x00\\x00\\rIHDR\\x00\\x00\\x04\\x00\\x00\\x00\\x04\\x00\\x08\\x02\\x00\\x…"
      ]
     },
     "metadata": {},
     "output_type": "display_data"
    }
   ],
   "source": [
    "import ipywidgets as widgets\n",
    " \n",
    "pattern = \"out_gyre_%04d.png\"\n",
    "data = []\n",
    "for i in range(nsteps):\n",
    "    with open(pattern % i, \"rb\") as f:\n",
    "        data.append(f.read())\n",
    "        \n",
    "image = widgets.Image(value=data[0],\n",
    "    width=500,\n",
    "    height=500,\n",
    "    format=\"jpg\")\n",
    " \n",
    "play = widgets.Play(value=0,\n",
    "    min=0,\n",
    "    max=len(data)-1,\n",
    "    step=1,\n",
    "    interval=500)\n",
    " \n",
    "def update(change):\n",
    "    index = change.owner.value\n",
    "    image.value = data[index]\n",
    " \n",
    "play.observe(update)\n",
    " \n",
    "widgets.VBox([image, play])"
   ]
  },
  {
   "cell_type": "code",
   "execution_count": 8,
   "metadata": {},
   "outputs": [
    {
     "name": "stdout",
     "output_type": "stream",
     "text": [
      "[3.81580591 4.4302738  4.42357516 4.41338218 4.40290018 4.36432096\n",
      " 4.40290018 4.41338218 4.42357516 4.4302738 ]\n"
     ]
    },
    {
     "data": {
      "image/png": "[encoded data removed]",
      "text/plain": [
       "<Figure size 432x288 with 1 Axes>"
      ]
     },
     "metadata": {
      "needs_background": "light"
     },
     "output_type": "display_data"
    }
   ],
   "source": [
    "entropy = np.zeros(nsteps)\n",
    "index = 0\n",
    "# get the node that has the time history\n",
    "gyre = info[\"expressions/entropy_of_gyre\"]\n",
    "cycle_names = gyre.child_names()\n",
    "\n",
    "# transfer conduit data to numpy\n",
    "for i in range(gyre.number_of_children()):\n",
    "    entropy[i] = gyre[i][\"value\"]\n",
    "\n",
    "print(entropy)\n",
    "# plot the data\n",
    "plt.plot(cycle_names, entropy)\n",
    "plt.ylabel('entropy')\n",
    "plt.xlabel('cycle')\n",
    "plt.show()"
   ]
  },
  {
   "cell_type": "code",
   "execution_count": null,
   "metadata": {},
   "outputs": [],
   "source": []
  },
  {
   "cell_type": "markdown",
   "metadata": {},
   "source": [
    "### Three good changes to explore\n",
    "\n",
    "- Data set dims\n",
    "- Field and Plot Type\n"
   ]
  },
  {
   "cell_type": "code",
   "execution_count": null,
   "metadata": {},
   "outputs": [],
   "source": []
  },
  {
   "cell_type": "code",
   "execution_count": null,
   "metadata": {},
   "outputs": [],
   "source": []
  },
  {
   "cell_type": "code",
   "execution_count": null,
   "metadata": {},
   "outputs": [],
   "source": []
  },
  {
   "cell_type": "code",
   "execution_count": null,
   "metadata": {},
   "outputs": [],
   "source": []
  },
  {
   "cell_type": "code",
   "execution_count": null,
   "metadata": {},
   "outputs": [],
   "source": []
  },
  {
   "cell_type": "code",
   "execution_count": null,
   "metadata": {},
   "outputs": [],
   "source": []
  }
 ],
 "metadata": {
  "kernelspec": {
   "display_name": "Python 3",
   "language": "python",
   "name": "python3"
  },
  "language_info": {
   "codemirror_mode": {
    "name": "ipython",
    "version": 3
   },
   "file_extension": ".py",
   "mimetype": "text/x-python",
   "name": "python",
   "nbconvert_exporter": "python",
   "pygments_lexer": "ipython3",
   "version": "3.6.3"
  }
 },
 "nbformat": 4,
 "nbformat_minor": 2
}
