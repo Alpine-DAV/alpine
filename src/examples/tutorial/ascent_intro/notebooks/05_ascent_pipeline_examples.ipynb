{
 "cells": [
  {
   "cell_type": "code",
   "execution_count": null,
   "metadata": {},
   "outputs": [],
   "source": [
    "# remove this\n",
    "import sys\n",
    "sys.path.append(\"/Users/harrison37/Work/alpine/ascent/install-debug/python-modules/\")"
   ]
  },
  {
   "cell_type": "code",
   "execution_count": null,
   "metadata": {},
   "outputs": [],
   "source": [
    "# cleanup any old results\n",
    "!./cleanup.sh"
   ]
  },
  {
   "cell_type": "code",
   "execution_count": null,
   "metadata": {},
   "outputs": [],
   "source": [
    "# ascent + conduit imports\n",
    "import conduit\n",
    "import conduit.blueprint\n",
    "import ascent\n",
    "\n",
    "import numpy as np\n",
    "\n",
    "# Jupyter imports\n",
    "from IPython.display import Image\n",
    "# helper we use when displaying results in the notebook\n",
    "img_display_width = 500"
   ]
  },
  {
   "cell_type": "markdown",
   "metadata": {},
   "source": [
    "## Create an example mesh to feed to Ascent"
   ]
  },
  {
   "cell_type": "code",
   "execution_count": null,
   "metadata": {},
   "outputs": [],
   "source": [
    "# create example mesh using the conduit blueprint braid helper\n",
    "mesh = conduit.Node()\n",
    "conduit.blueprint.mesh.examples.braid(\"hexs\",\n",
    "                                      10,\n",
    "                                      10,\n",
    "                                      10,\n",
    "                                      mesh)"
   ]
  },
  {
   "cell_type": "code",
   "execution_count": null,
   "metadata": {},
   "outputs": [],
   "source": [
    "# make sure the mesh we created conforms to the blueprint\n",
    "verify_info = conduit.Node()\n",
    "if not conduit.blueprint.mesh.verify(mesh,verify_info):\n",
    "    print(\"Mesh Verify failed!\")\n",
    "    print(verify_info)\n",
    "else:\n",
    "    print(\"Mesh verify success!\")"
   ]
  },
  {
   "cell_type": "markdown",
   "metadata": {},
   "source": [
    "# Pipeline Example 1: Create and render a Contour"
   ]
  },
  {
   "cell_type": "code",
   "execution_count": null,
   "metadata": {},
   "outputs": [],
   "source": [
    "# create an instance of Ascent\n",
    "a = ascent.Ascent()\n",
    "a.open()\n",
    "\n",
    "# publish our mesh to ascent\n",
    "a.publish(mesh);\n",
    "\n",
    "\n",
    "# Create a simple pipeline with a contour filter\n",
    "pipelines = conduit.Node()\n",
    "pipelines[\"pl1/f1/type\"] = \"contour\"\n",
    "\n",
    "contour_params = conduit.Node()\n",
    "contour_params[\"field\"] = \"braid\"\n",
    "iso_vals = np.array([0.2, 0.4],dtype=np.float32)\n",
    "contour_params[\"iso_values\"].set_external(iso_vals)\n",
    "pipelines[\"pl1/f1/params\"] = contour_params\n",
    "\n",
    "# setup actions to add the pipeline with our contour filter\n",
    "# and feed that into a plot for raytracing\n",
    "actions = conduit.Node()\n",
    "add_act = actions.append()\n",
    "add_act[\"action\"] = \"add_pipelines\"\n",
    "add_act[\"pipelines\"] = pipelines\n",
    "\n",
    "# declare a scene to render the dataset\n",
    "scenes = conduit.Node()\n",
    "scenes[\"s1/plots/p1/type\"] = \"pseudocolor\";\n",
    "scenes[\"s1/plots/p1/pipeline\"] = \"pl1\";\n",
    "scenes[\"s1/plots/p1/field\"] = \"braid\";\n",
    "# set the output file name (ascent will add \".png\")\n",
    "scenes[\"s1/image_prefix\"] = \"out_pipeline_ex1_contour_\"\n",
    "\n",
    "add_act2 = actions.append()\n",
    "add_act2[\"action\"] = \"add_scenes\"\n",
    "add_act2[\"scenes\"] = scenes\n",
    "\n",
    "# print our full actions tree\n",
    "print(actions.to_yaml())\n",
    "\n",
    "# execute\n",
    "a.execute(actions);\n",
    "\n",
    "# close ascent\n",
    "a.close()"
   ]
  },
  {
   "cell_type": "code",
   "execution_count": null,
   "metadata": {},
   "outputs": [],
   "source": [
    "# show the resulting image\n",
    "Image(\"out_pipeline_ex1_contour_100.png\",width=img_display_width)"
   ]
  },
  {
   "cell_type": "markdown",
   "metadata": {},
   "source": [
    "# Pipeline Example 2:  Clip and Threshold"
   ]
  },
  {
   "cell_type": "code",
   "execution_count": null,
   "metadata": {},
   "outputs": [],
   "source": [
    "a = ascent.Ascent()\n",
    "a.open()\n",
    "\n",
    "# publish mesh to ascent\n",
    "a.publish(mesh);\n",
    "\n",
    "pipelines = conduit.Node()\n",
    "# pipeline \n",
    "pipelines[\"pl1/f1/type\"] = \"threshold\"\n",
    "# filter parameters\n",
    "thresh_params = conduit.Node()\n",
    "thresh_params[\"field\"]  = \"braid\"\n",
    "thresh_params[\"min_value\"] = 0.0\n",
    "thresh_params[\"max_value\"] = 0.5\n",
    "pipelines[\"pl1/f1/params\"] = thresh_params\n",
    "\n",
    "pipelines[\"pl1/f2/type\"]   = \"clip\"\n",
    "# filter parameters\n",
    "clip_params = conduit.Node()\n",
    "clip_params[\"sphere/center/x\"] = 0.0\n",
    "clip_params[\"sphere/center/y\"] = 0.0\n",
    "clip_params[\"sphere/center/z\"] = 0.0\n",
    "clip_params[\"sphere/radius\"]   = 12\n",
    "pipelines[\"pl1/f2/params/\"] = clip_params\n",
    "\n",
    "# setup actions\n",
    "actions = conduit.Node()\n",
    "add_act = actions.append()\n",
    "add_act[\"action\"] = \"add_pipelines\"\n",
    "add_act[\"pipelines\"] = pipelines\n",
    "\n",
    "# declare a scene to render the dataset\n",
    "scenes = conduit.Node()\n",
    "scenes[\"s1/plots/p1/type\"] = \"pseudocolor\"\n",
    "scenes[\"s1/plots/p1/pipeline\"] = \"pl1\"\n",
    "scenes[\"s1/plots/p1/field\"] = \"braid\"\n",
    "# set the output file name (ascent will add \".png\")\n",
    "scenes[\"s1/image_prefix\"] = \"out_pipeline_ex2_thresh_clip_\"\n",
    "\n",
    "add_act2 = actions.append()\n",
    "add_act2[\"action\"] = \"add_scenes\"\n",
    "add_act2[\"scenes\"] = scenes\n",
    "\n",
    "# print our full actions tree\n",
    "print(actions.to_yaml())\n",
    "\n",
    "# execute\n",
    "a.execute(actions)\n",
    "\n",
    "# close ascent\n",
    "a.close()"
   ]
  },
  {
   "cell_type": "code",
   "execution_count": null,
   "metadata": {},
   "outputs": [],
   "source": [
    "# show the resulting image\n",
    "Image(\"out_pipeline_ex2_thresh_clip_100.png\",width=img_display_width)"
   ]
  },
  {
   "cell_type": "markdown",
   "metadata": {},
   "source": [
    "# Example 3: Render two plots from different pipelines"
   ]
  },
  {
   "cell_type": "code",
   "execution_count": null,
   "metadata": {},
   "outputs": [],
   "source": [
    "a = ascent.Ascent()\n",
    "a.open()\n",
    "\n",
    "# publish mesh to ascent\n",
    "a.publish(mesh);\n",
    "\n",
    "pipelines = conduit.Node()\n",
    "\n",
    "# pipeline 1\n",
    "pipelines[\"pl1/f1/type\"] = \"contour\";\n",
    "contour_params =conduit.Node()\n",
    "contour_params[\"field\"] = \"braid\";\n",
    "iso_vals = np.array([0.2, 0.4], dtype=np.float64) \n",
    "contour_params[\"iso_values\"].set_external(iso_vals);\n",
    "pipelines[\"pl1/f1/params\"] = contour_params;\n",
    "\n",
    "# pipeline 2\n",
    "thresh_params = conduit.Node()\n",
    "pipelines[\"pl2/f1/type\"] = \"threshold\"\n",
    "thresh_params[\"field\"]  = \"braid\"\n",
    "thresh_params[\"min_value\"] = 0.0\n",
    "thresh_params[\"max_value\"] = 0.5\n",
    "pipelines[\"pl2/f1/params\"] = thresh_params\n",
    "\n",
    "pipelines[\"pl2/f2/type\"]   = \"clip\"\n",
    "clip_params = conduit.Node()\n",
    "clip_params[\"sphere/center/x\"] = 0.0\n",
    "clip_params[\"sphere/center/y\"] = 0.0\n",
    "clip_params[\"sphere/center/z\"] = 0.0\n",
    "clip_params[\"sphere/radius\"]   = 12\n",
    "pipelines[\"pl2/f2/params/\"] = clip_params\n",
    "\n",
    "# setup actions\n",
    "actions = conduit.Node()\n",
    "add_act = actions.append()\n",
    "add_act[\"action\"] = \"add_pipelines\"\n",
    "add_act[\"pipelines\"] = pipelines\n",
    "\n",
    "# declare a scene to render the dataset\n",
    "scenes = conduit.Node()\n",
    "scenes[\"s1/plots/p1/type\"] = \"pseudocolor\"\n",
    "scenes[\"s1/plots/p1/pipeline\"] = \"pl1\"\n",
    "scenes[\"s1/plots/p1/field\"] = \"braid\"\n",
    "scenes[\"s1/plots/p2/type\"] = \"pseudocolor\"\n",
    "scenes[\"s1/plots/p2/pipeline\"] = \"pl2\"\n",
    "scenes[\"s1/plots/p2/field\"] = \"braid\"\n",
    "# set the output file name (ascent will add \".png\")\n",
    "scenes[\"s1/image_prefix\"] = \"out_pipeline_ex3_two_plots_\";\n",
    "\n",
    "add_act2 = actions.append()\n",
    "add_act2[\"action\"] = \"add_scenes\"\n",
    "add_act2[\"scenes\"] = scenes\n",
    "\n",
    "# print our full actions tree\n",
    "print(actions.to_yaml())\n",
    "\n",
    "# execute\n",
    "a.execute(actions)\n",
    "\n",
    "# close ascent\n",
    "a.close()"
   ]
  },
  {
   "cell_type": "code",
   "execution_count": null,
   "metadata": {},
   "outputs": [],
   "source": [
    "# show the resulting image\n",
    "Image(\"out_pipeline_ex3_two_plots_100.png\",width=img_display_width)"
   ]
  }
 ],
 "metadata": {
  "kernelspec": {
   "display_name": "Python 3",
   "language": "python",
   "name": "python3"
  },
  "language_info": {
   "codemirror_mode": {
    "name": "ipython",
    "version": 3
   },
   "file_extension": ".py",
   "mimetype": "text/x-python",
   "name": "python",
   "nbconvert_exporter": "python",
   "pygments_lexer": "ipython3",
   "version": "3.6.3"
  }
 },
 "nbformat": 4,
 "nbformat_minor": 2
}
