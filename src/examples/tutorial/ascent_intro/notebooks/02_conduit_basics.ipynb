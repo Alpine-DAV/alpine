{
 "cells": [
  {
   "cell_type": "code",
   "execution_count": 1,
   "metadata": {},
   "outputs": [],
   "source": [
    "# remove this\n",
    "import sys\n",
    "#sys.path.append(\"/Users/harrison37/Work/alpine/ascent/install-debug/python-modules/\")\n",
    "sys.path.append(\"/Users/larsen30/research/test_builds/release/ascent/install/python-modules\")"
   ]
  },
  {
   "cell_type": "code",
   "execution_count": 2,
   "metadata": {},
   "outputs": [],
   "source": [
    "import conduit\n",
    "import numpy as np"
   ]
  },
  {
   "cell_type": "code",
   "execution_count": 3,
   "metadata": {},
   "outputs": [
    {
     "name": "stdout",
     "output_type": "stream",
     "text": [
      "\n",
      "key: \"value\"\n",
      "\n"
     ]
    }
   ],
   "source": [
    "# Example 1\n",
    "n = conduit.Node()\n",
    "n[\"key\"] = \"value\";\n",
    "print(n.to_yaml())"
   ]
  },
  {
   "cell_type": "code",
   "execution_count": 4,
   "metadata": {},
   "outputs": [
    {
     "name": "stdout",
     "output_type": "stream",
     "text": [
      "\n",
      "dir1: \n",
      "  dir2: \n",
      "    val1: 100.5\n",
      "\n"
     ]
    }
   ],
   "source": [
    "# Example 2\n",
    "n = conduit.Node()\n",
    "n[\"dir1/dir2/val1\"] = 100.5;\n",
    "print(n.to_yaml())    "
   ]
  },
  {
   "cell_type": "code",
   "execution_count": 5,
   "metadata": {},
   "outputs": [
    {
     "name": "stdout",
     "output_type": "stream",
     "text": [
      "\n",
      "fib: [0, 1, 1, 2, 3, 5, 8, 13, 21, 34, 55, 89, 144, 233, 377, 610, 987, 1597, 2584, 4181]\n",
      "\n"
     ]
    }
   ],
   "source": [
    "# Example 3\n",
    "n = conduit.Node()\n",
    "a = np.zeros(20, dtype=np.int32)\n",
    "\n",
    "a[0] = 0\n",
    "a[1] = 1\n",
    "for i in range(2,20):\n",
    "   a[i] = a[i-2] + a[i-1]\n",
    "n[\"fib\"].set(a);\n",
    "print(n.to_yaml());"
   ]
  },
  {
   "cell_type": "code",
   "execution_count": 6,
   "metadata": {},
   "outputs": [
    {
     "name": "stdout",
     "output_type": "stream",
     "text": [
      "\n",
      "fib_deep_copy: [0, 1, 1, 2, 3, 5, 8, 13, 21, 34, 55, 89, 144, 233, 377, 610, 987, 1597, 2584, 4181]\n",
      "fib_shallow_copy: [0, 1, 1, 2, 3, 5, 8, 13, 21, 34, 55, 89, 144, 233, 377, 610, 987, 1597, 2584, -1]\n",
      "\n"
     ]
    }
   ],
   "source": [
    "# Examples 4\n",
    "# set_external example\n",
    "n = conduit.Node()\n",
    "a1 = np.zeros(20, dtype=np.int32)\n",
    "\n",
    "a1[0] = 0\n",
    "a1[1] = 1\n",
    "\n",
    "for i in range(2,20):\n",
    "   a1[i] = a1[i-2] + a1[i-1]\n",
    "\n",
    "a2 = np.zeros(20, dtype=np.int32) \n",
    "\n",
    "a2[0] = 0\n",
    "a2[1] = 1\n",
    "\n",
    "for i in range(2,20):\n",
    "   a2[i] = a2[i-2] + a2[i-1]\n",
    "\n",
    "n[\"fib_deep_copy\"].set(a1);\n",
    "n[\"fib_shallow_copy\"].set_external(a2);\n",
    "\n",
    "a1[-1] = -1\n",
    "a2[-1] = -1\n",
    "\n",
    "print(n.to_yaml())"
   ]
  },
  {
   "cell_type": "code",
   "execution_count": null,
   "metadata": {},
   "outputs": [],
   "source": []
  },
  {
   "cell_type": "code",
   "execution_count": null,
   "metadata": {},
   "outputs": [],
   "source": []
  },
  {
   "cell_type": "code",
   "execution_count": null,
   "metadata": {},
   "outputs": [],
   "source": []
  }
 ],
 "metadata": {
  "kernelspec": {
   "display_name": "Python 3",
   "language": "python",
   "name": "python3"
  },
  "language_info": {
   "codemirror_mode": {
    "name": "ipython",
    "version": 3
   },
   "file_extension": ".py",
   "mimetype": "text/x-python",
   "name": "python",
   "nbconvert_exporter": "python",
   "pygments_lexer": "ipython3",
   "version": "3.6.3"
  }
 },
 "nbformat": 4,
 "nbformat_minor": 2
}
