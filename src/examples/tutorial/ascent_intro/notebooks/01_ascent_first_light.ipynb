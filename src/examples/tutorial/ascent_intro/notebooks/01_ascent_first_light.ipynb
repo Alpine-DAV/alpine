{
 "cells": [
  {
   "cell_type": "code",
   "execution_count": null,
   "metadata": {},
   "outputs": [],
   "source": [
    "# remove this\n",
    "import sys\n",
    "sys.path.append(\"/Users/harrison37/Work/alpine/ascent/install-debug/python-modules/\")\n",
    "#sys.path.append(\"/Users/larsen30/research/test_builds/release/ascent/install/python-modules\")\n",
    "sys.executable"
   ]
  },
  {
   "cell_type": "code",
   "execution_count": null,
   "metadata": {},
   "outputs": [],
   "source": [
    "# cleanup any old results\n",
    "!./cleanup.sh"
   ]
  },
  {
   "cell_type": "code",
   "execution_count": null,
   "metadata": {},
   "outputs": [],
   "source": [
    "# Ascent imports\n",
    "import conduit\n",
    "import conduit.blueprint\n",
    "import ascent\n",
    "\n",
    "# Jupyter imports\n",
    "from IPython.display import Image\n",
    "# helper we use when displaying results in the notebook\n",
    "img_display_width = 500"
   ]
  },
  {
   "cell_type": "code",
   "execution_count": null,
   "metadata": {},
   "outputs": [],
   "source": [
    "# create example mesh using conduit blueprint\n",
    "mesh = conduit.Node()\n",
    "conduit.blueprint.mesh.examples.braid(\"hexs\",\n",
    "                                      10,\n",
    "                                      10,\n",
    "                                      10,\n",
    "                                      mesh)"
   ]
  },
  {
   "cell_type": "code",
   "execution_count": null,
   "metadata": {},
   "outputs": [],
   "source": [
    "# create an Ascent instance\n",
    "a = ascent.Ascent()\n",
    "\n",
    "# setup options to allow errors propagate to python\n",
    "ascent_opts = conduit.Node()\n",
    "ascent_opts[\"exceptions\"] = \"forward\"\n",
    "# open ascent\n",
    "a.open(ascent_opts)\n",
    "\n",
    "#\n",
    "# publish mesh to ascent\n",
    "#\n",
    "a.publish(mesh)\n",
    "\n",
    "#\n",
    "# Setup actions to tell Ascent what to do\n",
    "#\n",
    "# add a scene with one plot to render \n",
    "# our mesh\n",
    "actions = conduit.Node()\n",
    "add_act = actions.append()\n",
    "add_act[\"action\"] = \"add_scenes\"\n",
    "\n",
    "# declare a scene to render the dataset\n",
    "scenes = add_act[\"scenes\"] \n",
    "scenes[\"s1/plots/p1/type\"] = \"pseudocolor\"\n",
    "scenes[\"s1/plots/p1/field\"] = \"braids\"\n",
    "# Set the output file name (ascent will add \".png\")\n",
    "scenes[\"s1/image_name\"] = \"out_ascent_render_3d\"\n",
    "\n",
    "# view our full actions tree\n",
    "print(actions.to_yaml())\n",
    "\n",
    "# execute\n",
    "a.execute(actions)\n",
    "\n",
    "# close ascent\n",
    "a.close()"
   ]
  },
  {
   "cell_type": "code",
   "execution_count": null,
   "metadata": {},
   "outputs": [],
   "source": [
    "# show the resulting image\n",
    "Image(\"out_ascent_render_3d.png\",width=img_display_width)"
   ]
  },
  {
   "cell_type": "markdown",
   "metadata": {},
   "source": [
    "### Three good changes to explore\n",
    "\n",
    "- Data set dims\n",
    "- Field and Plot Type\n"
   ]
  }
 ],
 "metadata": {
  "kernelspec": {
   "display_name": "Python 3",
   "language": "python",
   "name": "python3"
  },
  "language_info": {
   "codemirror_mode": {
    "name": "ipython",
    "version": 3
   },
   "file_extension": ".py",
   "mimetype": "text/x-python",
   "name": "python",
   "nbconvert_exporter": "python",
   "pygments_lexer": "ipython3",
   "version": "3.6.3"
  }
 },
 "nbformat": 4,
 "nbformat_minor": 2
}
