{
 "cells": [
  {
   "cell_type": "code",
   "execution_count": null,
   "metadata": {},
   "outputs": [],
   "source": [
    "# remove this\n",
    "import sys\n",
    "sys.path.append(\"/Users/harrison37/Work/alpine/ascent/install-debug/python-modules/\")"
   ]
  },
  {
   "cell_type": "code",
   "execution_count": null,
   "metadata": {},
   "outputs": [],
   "source": [
    "# cleanup any old results\n",
    "!./cleanup.sh"
   ]
  },
  {
   "cell_type": "code",
   "execution_count": null,
   "metadata": {},
   "outputs": [],
   "source": [
    "# ascent + conduit imports\n",
    "import conduit\n",
    "import conduit.blueprint\n",
    "import ascent\n",
    "\n",
    "import numpy as np\n",
    "\n",
    "# Jupyter imports\n",
    "from IPython.display import Image\n",
    "# helper we use when displaying results in the notebook\n",
    "img_display_width = 500"
   ]
  },
  {
   "cell_type": "markdown",
   "metadata": {},
   "source": [
    "# Uniform Mesh Example"
   ]
  },
  {
   "cell_type": "code",
   "execution_count": null,
   "metadata": {},
   "outputs": [],
   "source": [
    "mesh = conduit.Node()\n",
    "\n",
    "# create the coordinate set\n",
    "num_per_dim = 9\n",
    "mesh[\"coordsets/coords/type\"] = \"uniform\";\n",
    "mesh[\"coordsets/coords/dims/i\"] = num_per_dim\n",
    "mesh[\"coordsets/coords/dims/j\"] = num_per_dim\n",
    "mesh[\"coordsets/coords/dims/k\"] = num_per_dim\n",
    "\n",
    "# add origin and spacing to the coordset (optional)\n",
    "mesh[\"coordsets/coords/origin/x\"] = -10.0\n",
    "mesh[\"coordsets/coords/origin/y\"] = -10.0\n",
    "mesh[\"coordsets/coords/origin/z\"] = -10.0\n",
    "\n",
    "distance_per_step = 20.0/(num_per_dim-1)\n",
    "\n",
    "mesh[\"coordsets/coords/spacing/dx\"] = distance_per_step\n",
    "mesh[\"coordsets/coords/spacing/dy\"] = distance_per_step\n",
    "mesh[\"coordsets/coords/spacing/dz\"] = distance_per_step\n",
    "\n",
    "# add the topology\n",
    "# this case is simple b/c it's implicitly derived from the coordinate set\n",
    "mesh[\"topologies/topo/type\"] = \"uniform\";\n",
    "# reference the coordinate set by name\n",
    "mesh[\"topologies/topo/coordset\"] = \"coords\";\n",
    "\n",
    "# create a field\n",
    "num_vertices = num_per_dim * num_per_dim * num_per_dim\n",
    "vals = np.zeros(num_vertices,dtype=np.float32)\n",
    "for i in range(num_vertices):\n",
    "    if i%2:\n",
    "        vals[i] = 0.0\n",
    "    else:\n",
    "        vals[i] = 1.0\n",
    "mesh[\"fields/alternating/association\"] = \"vertex\";\n",
    "mesh[\"fields/alternating/topology\"] = \"topo\";\n",
    "mesh[\"fields/alternating/values\"].set_external(vals)"
   ]
  },
  {
   "cell_type": "code",
   "execution_count": null,
   "metadata": {},
   "outputs": [],
   "source": [
    "# print the mesh we created\n",
    "print(mesh.to_yaml())"
   ]
  },
  {
   "cell_type": "code",
   "execution_count": null,
   "metadata": {},
   "outputs": [],
   "source": [
    "# make sure we conform\n",
    "verify_info = conduit.Node()\n",
    "if not conduit.blueprint.mesh.verify(mesh,verify_info):\n",
    "    print(\"Mesh Verify failed!\")\n",
    "    print(verify_info)\n",
    "else:\n",
    "    print(\"Mesh verify success!\")"
   ]
  },
  {
   "cell_type": "code",
   "execution_count": null,
   "metadata": {},
   "outputs": [],
   "source": [
    "# now lets look at the mesh with Ascent\n",
    "a = ascent.Ascent()\n",
    "\n",
    "a.open()\n",
    "\n",
    "# publish mesh to ascent\n",
    "a.publish(mesh);\n",
    "\n",
    "# declare a scene to render the dataset\n",
    "scenes = conduit.Node();\n",
    "scenes[\"s1/plots/p1/type\"] = \"pseudocolor\";\n",
    "scenes[\"s1/plots/p1/field\"] = \"alternating\";\n",
    "# Set the output file name (ascent will add \".png\")\n",
    "scenes[\"s1/image_prefix\"] = \"out_ascent_render_uniform_\";\n",
    "\n",
    "# setup actions\n",
    "actions = conduit.Node()\n",
    "add_act = actions.append();\n",
    "add_act[\"action\"] = \"add_scenes\";\n",
    "add_act[\"scenes\"] = scenes;\n",
    "\n",
    "# print our full actions tree\n",
    "print(actions.to_yaml())\n",
    "\n",
    "\n",
    "# execute\n",
    "a.execute(actions)\n",
    "\n",
    "# close ascent\n",
    "a.close()"
   ]
  },
  {
   "cell_type": "code",
   "execution_count": null,
   "metadata": {},
   "outputs": [],
   "source": [
    "# show the resulting image\n",
    "Image(\"out_ascent_render_uniform_0.png\",width=img_display_width)"
   ]
  },
  {
   "cell_type": "markdown",
   "metadata": {},
   "source": [
    "# Unstructured Example"
   ]
  },
  {
   "cell_type": "code",
   "execution_count": null,
   "metadata": {},
   "outputs": [],
   "source": [
    "mesh = conduit.Node()\n",
    "    # create an explicit coordinate set\n",
    "x = np.array( [-1.0, 0.0, 0.0, 0.0, 1.0 ], dtype=np.float64 )\n",
    "y = np.array( [0.0, -1.0, 0.0, 1.0, 0.0 ], dtype=np.float64 )\n",
    "z = np.array( [ 0.0, 0.0, 1.0, 0.0, 0.0 ], dtype=np.float64 )\n",
    "\n",
    "mesh[\"coordsets/coords/type\"] = \"explicit\";\n",
    "mesh[\"coordsets/coords/values/x\"].set_external(x)\n",
    "mesh[\"coordsets/coords/values/y\"].set_external(y)\n",
    "mesh[\"coordsets/coords/values/z\"].set_external(z)\n",
    "\n",
    "# reference the coordinate set by name\n",
    "mesh[\"topologies/mesh/type\"] = \"unstructured\"\n",
    "mesh[\"topologies/mesh/coordset\"] = \"coords\"\n",
    "mesh[\"topologies/mesh/elements/shape\"] = \"tet\"\n",
    "\n",
    "connectivity = np.array([0, 1, 3, 2, 4, 3, 1, 2 ],dtype=np.int64)\n",
    "mesh[\"topologies/mesh/elements/connectivity\"].set_external(connectivity)\n",
    "\n",
    "num_elements = 2\n",
    "    \n",
    "var1 = np.array([0,1],dtype=np.float32)\n",
    "var2 = np.array([1,0],dtype=np.float32)\n",
    "\n",
    "mesh[\"fields/var1/association\"] = \"element\"\n",
    "mesh[\"fields/var1/topology\"] = \"mesh\"\n",
    "mesh[\"fields/var1/volume_dependent\"] = \"false\"\n",
    "mesh[\"fields/var1/values\"].set_external(var1)\n",
    "\n",
    "mesh[\"fields/var2/association\"] = \"element\"\n",
    "mesh[\"fields/var2/topology\"] = \"mesh\"\n",
    "mesh[\"fields/var2/volume_dependent\"] = \"false\"\n",
    "mesh[\"fields/var2/values\"].set_external(var2)"
   ]
  },
  {
   "cell_type": "code",
   "execution_count": null,
   "metadata": {},
   "outputs": [],
   "source": [
    "# print the mesh we created\n",
    "print(mesh.to_yaml())"
   ]
  },
  {
   "cell_type": "code",
   "execution_count": null,
   "metadata": {},
   "outputs": [],
   "source": [
    "# make sure we conform\n",
    "verify_info = conduit.Node()\n",
    "if not conduit.blueprint.mesh.verify(mesh,verify_info):\n",
    "    print(\"Mesh Verify failed!\")\n",
    "    print(verify_info)\n",
    "else:\n",
    "    print(\"Mesh verify success!\")"
   ]
  },
  {
   "cell_type": "code",
   "execution_count": null,
   "metadata": {},
   "outputs": [],
   "source": [
    "a = ascent.Ascent()\n",
    "a.open()\n",
    "# publish mesh to ascent\n",
    "a.publish(mesh);\n",
    "\n",
    "scenes = conduit.Node()\n",
    "\n",
    "# declare a scene to render the dataset\n",
    "scenes[\"s1/plots/p1/type\"] = \"pseudocolor\";\n",
    "scenes[\"s1/plots/p1/field\"] = \"var1\";\n",
    "scenes[\"s1/image_prefix\"] = \"out_ascent_render_tet_\";\n",
    "\n",
    "#     // setup actions\n",
    "actions = conduit.Node()\n",
    "add_act = actions.append()\n",
    "add_act[\"action\"] = \"add_scenes\"\n",
    "add_act[\"scenes\"] = scenes\n",
    "\n",
    "# print our full actions tree\n",
    "print(actions.to_yaml())\n",
    "\n",
    "# execute\n",
    "a.execute(actions);\n",
    "\n",
    "# close ascent\n",
    "a.close()"
   ]
  },
  {
   "cell_type": "code",
   "execution_count": null,
   "metadata": {},
   "outputs": [],
   "source": [
    "# show the resulting image\n",
    "Image(\"out_ascent_render_tet_0.png\",width=img_display_width)"
   ]
  },
  {
   "cell_type": "code",
   "execution_count": null,
   "metadata": {},
   "outputs": [],
   "source": []
  }
 ],
 "metadata": {
  "kernelspec": {
   "display_name": "Python 3",
   "language": "python",
   "name": "python3"
  },
  "language_info": {
   "codemirror_mode": {
    "name": "ipython",
    "version": 3
   },
   "file_extension": ".py",
   "mimetype": "text/x-python",
   "name": "python",
   "nbconvert_exporter": "python",
   "pygments_lexer": "ipython3",
   "version": "3.6.3"
  }
 },
 "nbformat": 4,
 "nbformat_minor": 2
}
