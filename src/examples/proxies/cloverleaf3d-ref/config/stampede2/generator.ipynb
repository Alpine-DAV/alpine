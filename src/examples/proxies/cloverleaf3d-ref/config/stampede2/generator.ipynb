{
 "cells": [
  {
   "cell_type": "code",
   "execution_count": 29,
   "metadata": {
    "tags": []
   },
   "outputs": [
    {
     "output_type": "stream",
     "name": "stdout",
     "text": "action : add_scenes\nscenes : ordereddict([('s1', ordereddict([('plots', ordereddict([('p1', ordereddict([('type', 'volume'), ('field', 'energy'), ('min_value', 0.0), ('max_value', 1.0), ('color_table', ordereddict([('name', 'rainbow desaturated'), ('control_points', [ordereddict([('type', 'alpha'), ('position', 0.0), ('alpha', 0.0)]), ordereddict([('type', 'alpha'), ('position', 0.4), ('alpha', 0.0)]), ordereddict([('type', 'alpha'), ('position', 0.75), ('alpha', 1.0)]), ordereddict([('type', 'alpha'), ('position', 1.0), ('alpha', 1.0)])])]))]))])), ('renders', ordereddict([('r1', ordereddict([('type', 'cinema'), ('phi', 13), ('theta', 13), ('camera', ordereddict([('zoom', 0.3)])), ('db_name', 'clover_db')]))]))]))])\n"
    }
   ],
   "source": [
    "import ruamel.yaml as yaml\n",
    "\n",
    "with open(r'cinema_actions.yaml') as file:\n",
    "    documents = yaml.round_trip_load(file, preserve_quotes=True)\n",
    "\n",
    "    for item, doc in documents[0].items():\n",
    "        print(item, \":\", doc)\n"
   ]
  },
  {
   "cell_type": "code",
   "execution_count": 32,
   "metadata": {},
   "outputs": [
    {
     "output_type": "execute_result",
     "data": {
      "text/plain": "<ruamel.yaml.comments.CommentedMapItemsView at 0x228066c8df8>"
     },
     "metadata": {},
     "execution_count": 32
    }
   ],
   "source": [
    "# documents['scenes']['s1']['renders']['r1']['phi']\n",
    "documents[0].items()"
   ]
  },
  {
   "cell_type": "code",
   "execution_count": 20,
   "metadata": {},
   "outputs": [],
   "source": [
    "documents[0]['probing'] = {'factor': 0.2, 'vis_budget': 0.5, 'node_split': 0.8}"
   ]
  },
  {
   "cell_type": "code",
   "execution_count": 21,
   "metadata": {},
   "outputs": [],
   "source": [
    "with open(r'store_file.yaml', 'w') as file:\n",
    "    documents = yaml.round_trip_dump(documents, file)"
   ]
  },
  {
   "cell_type": "code",
   "execution_count": null,
   "metadata": {},
   "outputs": [],
   "source": []
  },
  {
   "cell_type": "code",
   "execution_count": null,
   "metadata": {},
   "outputs": [],
   "source": []
  },
  {
   "cell_type": "code",
   "execution_count": null,
   "metadata": {},
   "outputs": [],
   "source": []
  }
 ],
 "metadata": {
  "language_info": {
   "codemirror_mode": {
    "name": "ipython",
    "version": 3
   },
   "file_extension": ".py",
   "mimetype": "text/x-python",
   "name": "python",
   "nbconvert_exporter": "python",
   "pygments_lexer": "ipython3",
   "version": "3.6.6-final"
  },
  "orig_nbformat": 2,
  "kernelspec": {
   "name": "python36664bitc6aa69cd55dd4f58830301b1461b5e8f",
   "display_name": "Python 3.6.6 64-bit"
  }
 },
 "nbformat": 4,
 "nbformat_minor": 2
}