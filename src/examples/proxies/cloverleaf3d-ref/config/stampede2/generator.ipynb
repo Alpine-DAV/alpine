{
 "cells": [
  {
   "cell_type": "code",
   "execution_count": 11,
   "metadata": {
    "tags": []
   },
   "outputs": [
    {
     "output_type": "stream",
     "name": "stdout",
     "text": "action : add_scenes\nscenes : {'s1': {'plots': {'p1': {'type': 'volume', 'field': 'energy', 'min_value': 0.0, 'max_value': 1.0, 'color_table': {'name': 'rainbow desaturated', 'control_points': [{'type': 'alpha', 'position': 0.0, 'alpha': 0.0}, {'type': 'alpha', 'position': 0.4, 'alpha': 0.0}, {'type': 'alpha', 'position': 0.75, 'alpha': 1.0}, {'type': 'alpha', 'position': 1.0, 'alpha': 1.0}]}}}, 'renders': {'r1': {'type': 'cinema', 'phi': 13, 'theta': 13, 'camera': {'zoom': 0.3}, 'db_name': 'clover_db'}}}}\n"
    }
   ],
   "source": [
    "import yaml\n",
    "\n",
    "with open(r'cinema_actions.yaml') as file:\n",
    "    documents = yaml.full_load(file)\n",
    "\n",
    "    for item, doc in documents[0].items():\n",
    "        print(item, \":\", doc)\n"
   ]
  },
  {
   "cell_type": "code",
   "execution_count": null,
   "metadata": {},
   "outputs": [],
   "source": [
    "with open(r'store_file.yaml', 'w') as file:\n",
    "    documents = yaml.dump(documents[0], file)"
   ]
  }
 ],
 "metadata": {
  "language_info": {
   "codemirror_mode": {
    "name": "ipython",
    "version": 3
   },
   "file_extension": ".py",
   "mimetype": "text/x-python",
   "name": "python",
   "nbconvert_exporter": "python",
   "pygments_lexer": "ipython3",
   "version": "3.6.6-final"
  },
  "orig_nbformat": 2,
  "kernelspec": {
   "name": "python36664bitc6aa69cd55dd4f58830301b1461b5e8f",
   "display_name": "Python 3.6.6 64-bit"
  }
 },
 "nbformat": 4,
 "nbformat_minor": 2
}